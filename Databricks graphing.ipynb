{
 "cells": [
  {
   "cell_type": "code",
   "execution_count": 0,
   "metadata": {
    "application/vnd.databricks.v1+cell": {
     "cellMetadata": {
      "byteLimit": 2048000,
      "rowLimit": 10000
     },
     "inputWidgets": {},
     "nuid": "6fa79daf-0aa4-4f42-9cd6-5a390605a981",
     "showTitle": false,
     "title": ""
    }
   },
   "outputs": [
    {
     "output_type": "stream",
     "name": "stdout",
     "output_type": "stream",
     "text": [
      "hello world\n"
     ]
    }
   ],
   "source": [
    "print('hello world')"
   ]
  },
  {
   "cell_type": "code",
   "execution_count": 0,
   "metadata": {
    "application/vnd.databricks.v1+cell": {
     "cellMetadata": {
      "byteLimit": 2048000,
      "rowLimit": 10000
     },
     "inputWidgets": {},
     "nuid": "21da79c7-b3b0-4173-8391-c911e1f8145f",
     "showTitle": false,
     "title": ""
    }
   },
   "outputs": [
    {
     "output_type": "display_data",
     "data": {
      "application/vnd.databricks.v1+bamboolib_hint": "{\"pd.DataFrames\": [], \"version\": \"0.0.1\"}",
      "text/plain": []
     },
     "metadata": {},
     "output_type": "display_data"
    }
   ],
   "source": [
    "from pyspark.sql import functions as fn, types as T\n",
    "import pandas as pd"
   ]
  },
  {
   "cell_type": "code",
   "execution_count": 0,
   "metadata": {
    "application/vnd.databricks.v1+cell": {
     "cellMetadata": {
      "byteLimit": 2048000,
      "rowLimit": 10000
     },
     "inputWidgets": {},
     "nuid": "353f3364-1905-460d-870b-871357994cde",
     "showTitle": false,
     "title": ""
    }
   },
   "outputs": [],
   "source": [
    "# lets import a couple of time series datasets\n",
    "\n",
    "# first a births dataset\n",
    "births_url = \"https://raw.githubusercontent.com/jbrownlee/Datasets/master/daily-total-female-births.csv\"\n",
    "births_pd = pd.read_csv(births_url)\n",
    "births_df = spark.createDataFrame(births_pd)\n",
    "\n",
    "# and a sunspots dataset\n",
    "sunspots_url = \"https://raw.githubusercontent.com/jbrownlee/Datasets/master/monthly-sunspots.csv\"\n",
    "sunspots_pd = pd.read_csv(sunspots_url)\n",
    "sunspots_df = spark.createDataFrame(sunspots_pd)"
   ]
  },
  {
   "cell_type": "code",
   "execution_count": 0,
   "metadata": {
    "application/vnd.databricks.v1+cell": {
     "cellMetadata": {
      "byteLimit": 2048000,
      "rowLimit": 10000
     },
     "inputWidgets": {},
     "nuid": "b99f7d19-0f3e-426f-9821-be5c5054265a",
     "showTitle": false,
     "title": ""
    }
   },
   "outputs": [
    {
     "output_type": "display_data",
     "data": {
      "text/html": [
       "<style scoped>\n",
       "  .table-result-container {\n",
       "    max-height: 300px;\n",
       "    overflow: auto;\n",
       "  }\n",
       "  table, th, td {\n",
       "    border: 1px solid black;\n",
       "    border-collapse: collapse;\n",
       "  }\n",
       "  th, td {\n",
       "    padding: 5px;\n",
       "  }\n",
       "  th {\n",
       "    text-align: left;\n",
       "  }\n",
       "</style><div class='table-result-container'><table class='table-result'><thead style='background-color: white'><tr><th>Date</th><th>Sunspots</th><th>Births</th></tr></thead><tbody><tr><td>1959-01-01</td><td>217.4</td><td>null</td></tr><tr><td>1959-02-01</td><td>143.1</td><td>null</td></tr><tr><td>1959-03-01</td><td>185.7</td><td>null</td></tr><tr><td>1959-04-01</td><td>163.3</td><td>null</td></tr><tr><td>1959-05-01</td><td>172.0</td><td>null</td></tr><tr><td>1959-06-01</td><td>168.7</td><td>null</td></tr><tr><td>1959-07-01</td><td>149.6</td><td>null</td></tr><tr><td>1959-08-01</td><td>199.6</td><td>null</td></tr><tr><td>1959-09-01</td><td>145.2</td><td>null</td></tr><tr><td>1959-10-01</td><td>111.4</td><td>null</td></tr><tr><td>1959-11-01</td><td>124.0</td><td>null</td></tr><tr><td>1959-12-01</td><td>125.0</td><td>null</td></tr><tr><td>1959-01-01</td><td>null</td><td>35.0</td></tr><tr><td>1959-01-02</td><td>null</td><td>32.0</td></tr><tr><td>1959-01-03</td><td>null</td><td>30.0</td></tr><tr><td>1959-01-04</td><td>null</td><td>31.0</td></tr><tr><td>1959-01-05</td><td>null</td><td>44.0</td></tr><tr><td>1959-01-06</td><td>null</td><td>29.0</td></tr><tr><td>1959-01-07</td><td>null</td><td>45.0</td></tr><tr><td>1959-01-08</td><td>null</td><td>43.0</td></tr><tr><td>1959-01-09</td><td>null</td><td>38.0</td></tr><tr><td>1959-01-10</td><td>null</td><td>27.0</td></tr><tr><td>1959-01-11</td><td>null</td><td>38.0</td></tr><tr><td>1959-01-12</td><td>null</td><td>33.0</td></tr><tr><td>1959-01-13</td><td>null</td><td>55.0</td></tr><tr><td>1959-01-14</td><td>null</td><td>47.0</td></tr><tr><td>1959-01-15</td><td>null</td><td>45.0</td></tr><tr><td>1959-01-16</td><td>null</td><td>37.0</td></tr><tr><td>1959-01-17</td><td>null</td><td>50.0</td></tr><tr><td>1959-01-18</td><td>null</td><td>43.0</td></tr><tr><td>1959-01-19</td><td>null</td><td>41.0</td></tr><tr><td>1959-01-20</td><td>null</td><td>52.0</td></tr><tr><td>1959-01-21</td><td>null</td><td>34.0</td></tr><tr><td>1959-01-22</td><td>null</td><td>53.0</td></tr><tr><td>1959-01-23</td><td>null</td><td>39.0</td></tr><tr><td>1959-01-24</td><td>null</td><td>32.0</td></tr><tr><td>1959-01-25</td><td>null</td><td>37.0</td></tr><tr><td>1959-01-26</td><td>null</td><td>43.0</td></tr><tr><td>1959-01-27</td><td>null</td><td>39.0</td></tr><tr><td>1959-01-28</td><td>null</td><td>35.0</td></tr><tr><td>1959-01-29</td><td>null</td><td>44.0</td></tr><tr><td>1959-01-30</td><td>null</td><td>38.0</td></tr><tr><td>1959-01-31</td><td>null</td><td>24.0</td></tr><tr><td>1959-02-01</td><td>null</td><td>23.0</td></tr><tr><td>1959-02-02</td><td>null</td><td>31.0</td></tr><tr><td>1959-02-03</td><td>null</td><td>44.0</td></tr><tr><td>1959-02-04</td><td>null</td><td>38.0</td></tr><tr><td>1959-02-05</td><td>null</td><td>50.0</td></tr><tr><td>1959-02-06</td><td>null</td><td>38.0</td></tr><tr><td>1959-02-07</td><td>null</td><td>51.0</td></tr><tr><td>1959-02-08</td><td>null</td><td>31.0</td></tr><tr><td>1959-02-09</td><td>null</td><td>31.0</td></tr><tr><td>1959-02-10</td><td>null</td><td>51.0</td></tr><tr><td>1959-02-11</td><td>null</td><td>36.0</td></tr><tr><td>1959-02-12</td><td>null</td><td>45.0</td></tr><tr><td>1959-02-13</td><td>null</td><td>51.0</td></tr><tr><td>1959-02-14</td><td>null</td><td>34.0</td></tr><tr><td>1959-02-15</td><td>null</td><td>52.0</td></tr><tr><td>1959-02-16</td><td>null</td><td>47.0</td></tr><tr><td>1959-02-17</td><td>null</td><td>45.0</td></tr><tr><td>1959-02-18</td><td>null</td><td>46.0</td></tr><tr><td>1959-02-19</td><td>null</td><td>39.0</td></tr><tr><td>1959-02-20</td><td>null</td><td>48.0</td></tr><tr><td>1959-02-21</td><td>null</td><td>37.0</td></tr><tr><td>1959-02-22</td><td>null</td><td>35.0</td></tr><tr><td>1959-02-23</td><td>null</td><td>52.0</td></tr><tr><td>1959-02-24</td><td>null</td><td>42.0</td></tr><tr><td>1959-02-25</td><td>null</td><td>45.0</td></tr><tr><td>1959-02-26</td><td>null</td><td>39.0</td></tr><tr><td>1959-02-27</td><td>null</td><td>37.0</td></tr><tr><td>1959-02-28</td><td>null</td><td>30.0</td></tr><tr><td>1959-03-01</td><td>null</td><td>35.0</td></tr><tr><td>1959-03-02</td><td>null</td><td>28.0</td></tr><tr><td>1959-03-03</td><td>null</td><td>45.0</td></tr><tr><td>1959-03-04</td><td>null</td><td>34.0</td></tr><tr><td>1959-03-05</td><td>null</td><td>36.0</td></tr><tr><td>1959-03-06</td><td>null</td><td>50.0</td></tr><tr><td>1959-03-07</td><td>null</td><td>44.0</td></tr><tr><td>1959-03-08</td><td>null</td><td>39.0</td></tr><tr><td>1959-03-09</td><td>null</td><td>32.0</td></tr><tr><td>1959-03-10</td><td>null</td><td>39.0</td></tr><tr><td>1959-03-11</td><td>null</td><td>45.0</td></tr><tr><td>1959-03-12</td><td>null</td><td>43.0</td></tr><tr><td>1959-03-13</td><td>null</td><td>39.0</td></tr><tr><td>1959-03-14</td><td>null</td><td>31.0</td></tr><tr><td>1959-03-15</td><td>null</td><td>27.0</td></tr><tr><td>1959-03-16</td><td>null</td><td>30.0</td></tr><tr><td>1959-03-17</td><td>null</td><td>42.0</td></tr><tr><td>1959-03-18</td><td>null</td><td>46.0</td></tr><tr><td>1959-03-19</td><td>null</td><td>41.0</td></tr><tr><td>1959-03-20</td><td>null</td><td>36.0</td></tr><tr><td>1959-03-21</td><td>null</td><td>45.0</td></tr><tr><td>1959-03-22</td><td>null</td><td>46.0</td></tr><tr><td>1959-03-23</td><td>null</td><td>43.0</td></tr><tr><td>1959-03-24</td><td>null</td><td>38.0</td></tr><tr><td>1959-03-25</td><td>null</td><td>34.0</td></tr><tr><td>1959-03-26</td><td>null</td><td>35.0</td></tr><tr><td>1959-03-27</td><td>null</td><td>56.0</td></tr><tr><td>1959-03-28</td><td>null</td><td>36.0</td></tr><tr><td>1959-03-29</td><td>null</td><td>32.0</td></tr><tr><td>1959-03-30</td><td>null</td><td>50.0</td></tr><tr><td>1959-03-31</td><td>null</td><td>41.0</td></tr><tr><td>1959-04-01</td><td>null</td><td>39.0</td></tr><tr><td>1959-04-02</td><td>null</td><td>41.0</td></tr><tr><td>1959-04-03</td><td>null</td><td>47.0</td></tr><tr><td>1959-04-04</td><td>null</td><td>34.0</td></tr><tr><td>1959-04-05</td><td>null</td><td>36.0</td></tr><tr><td>1959-04-06</td><td>null</td><td>33.0</td></tr><tr><td>1959-04-07</td><td>null</td><td>35.0</td></tr><tr><td>1959-04-08</td><td>null</td><td>38.0</td></tr><tr><td>1959-04-09</td><td>null</td><td>38.0</td></tr><tr><td>1959-04-10</td><td>null</td><td>34.0</td></tr><tr><td>1959-04-11</td><td>null</td><td>53.0</td></tr><tr><td>1959-04-12</td><td>null</td><td>34.0</td></tr><tr><td>1959-04-13</td><td>null</td><td>34.0</td></tr><tr><td>1959-04-14</td><td>null</td><td>38.0</td></tr><tr><td>1959-04-15</td><td>null</td><td>35.0</td></tr><tr><td>1959-04-16</td><td>null</td><td>32.0</td></tr><tr><td>1959-04-17</td><td>null</td><td>42.0</td></tr><tr><td>1959-04-18</td><td>null</td><td>34.0</td></tr><tr><td>1959-04-19</td><td>null</td><td>46.0</td></tr><tr><td>1959-04-20</td><td>null</td><td>30.0</td></tr><tr><td>1959-04-21</td><td>null</td><td>46.0</td></tr><tr><td>1959-04-22</td><td>null</td><td>45.0</td></tr><tr><td>1959-04-23</td><td>null</td><td>54.0</td></tr><tr><td>1959-04-24</td><td>null</td><td>34.0</td></tr><tr><td>1959-04-25</td><td>null</td><td>37.0</td></tr><tr><td>1959-04-26</td><td>null</td><td>35.0</td></tr><tr><td>1959-04-27</td><td>null</td><td>40.0</td></tr><tr><td>1959-04-28</td><td>null</td><td>42.0</td></tr><tr><td>1959-04-29</td><td>null</td><td>58.0</td></tr><tr><td>1959-04-30</td><td>null</td><td>51.0</td></tr><tr><td>1959-05-01</td><td>null</td><td>32.0</td></tr><tr><td>1959-05-02</td><td>null</td><td>35.0</td></tr><tr><td>1959-05-03</td><td>null</td><td>38.0</td></tr><tr><td>1959-05-04</td><td>null</td><td>33.0</td></tr><tr><td>1959-05-05</td><td>null</td><td>39.0</td></tr><tr><td>1959-05-06</td><td>null</td><td>47.0</td></tr><tr><td>1959-05-07</td><td>null</td><td>38.0</td></tr><tr><td>1959-05-08</td><td>null</td><td>52.0</td></tr><tr><td>1959-05-09</td><td>null</td><td>30.0</td></tr><tr><td>1959-05-10</td><td>null</td><td>34.0</td></tr><tr><td>1959-05-11</td><td>null</td><td>40.0</td></tr><tr><td>1959-05-12</td><td>null</td><td>35.0</td></tr><tr><td>1959-05-13</td><td>null</td><td>42.0</td></tr><tr><td>1959-05-14</td><td>null</td><td>41.0</td></tr><tr><td>1959-05-15</td><td>null</td><td>42.0</td></tr><tr><td>1959-05-16</td><td>null</td><td>38.0</td></tr><tr><td>1959-05-17</td><td>null</td><td>24.0</td></tr><tr><td>1959-05-18</td><td>null</td><td>34.0</td></tr><tr><td>1959-05-19</td><td>null</td><td>43.0</td></tr><tr><td>1959-05-20</td><td>null</td><td>36.0</td></tr><tr><td>1959-05-21</td><td>null</td><td>55.0</td></tr><tr><td>1959-05-22</td><td>null</td><td>41.0</td></tr><tr><td>1959-05-23</td><td>null</td><td>45.0</td></tr><tr><td>1959-05-24</td><td>null</td><td>41.0</td></tr><tr><td>1959-05-25</td><td>null</td><td>37.0</td></tr><tr><td>1959-05-26</td><td>null</td><td>43.0</td></tr><tr><td>1959-05-27</td><td>null</td><td>39.0</td></tr><tr><td>1959-05-28</td><td>null</td><td>33.0</td></tr><tr><td>1959-05-29</td><td>null</td><td>43.0</td></tr><tr><td>1959-05-30</td><td>null</td><td>40.0</td></tr><tr><td>1959-05-31</td><td>null</td><td>38.0</td></tr><tr><td>1959-06-01</td><td>null</td><td>45.0</td></tr><tr><td>1959-06-02</td><td>null</td><td>46.0</td></tr><tr><td>1959-06-03</td><td>null</td><td>34.0</td></tr><tr><td>1959-06-04</td><td>null</td><td>35.0</td></tr><tr><td>1959-06-05</td><td>null</td><td>48.0</td></tr><tr><td>1959-06-06</td><td>null</td><td>51.0</td></tr><tr><td>1959-06-07</td><td>null</td><td>36.0</td></tr><tr><td>1959-06-08</td><td>null</td><td>33.0</td></tr><tr><td>1959-06-09</td><td>null</td><td>46.0</td></tr><tr><td>1959-06-10</td><td>null</td><td>42.0</td></tr><tr><td>1959-06-11</td><td>null</td><td>48.0</td></tr><tr><td>1959-06-12</td><td>null</td><td>34.0</td></tr><tr><td>1959-06-13</td><td>null</td><td>41.0</td></tr><tr><td>1959-06-14</td><td>null</td><td>35.0</td></tr><tr><td>1959-06-15</td><td>null</td><td>40.0</td></tr><tr><td>1959-06-16</td><td>null</td><td>34.0</td></tr><tr><td>1959-06-17</td><td>null</td><td>30.0</td></tr><tr><td>1959-06-18</td><td>null</td><td>36.0</td></tr><tr><td>1959-06-19</td><td>null</td><td>40.0</td></tr><tr><td>1959-06-20</td><td>null</td><td>39.0</td></tr><tr><td>1959-06-21</td><td>null</td><td>45.0</td></tr><tr><td>1959-06-22</td><td>null</td><td>38.0</td></tr><tr><td>1959-06-23</td><td>null</td><td>47.0</td></tr><tr><td>1959-06-24</td><td>null</td><td>33.0</td></tr><tr><td>1959-06-25</td><td>null</td><td>30.0</td></tr><tr><td>1959-06-26</td><td>null</td><td>42.0</td></tr><tr><td>1959-06-27</td><td>null</td><td>43.0</td></tr><tr><td>1959-06-28</td><td>null</td><td>41.0</td></tr><tr><td>1959-06-29</td><td>null</td><td>41.0</td></tr><tr><td>1959-06-30</td><td>null</td><td>59.0</td></tr><tr><td>1959-07-01</td><td>null</td><td>43.0</td></tr><tr><td>1959-07-02</td><td>null</td><td>45.0</td></tr><tr><td>1959-07-03</td><td>null</td><td>38.0</td></tr><tr><td>1959-07-04</td><td>null</td><td>37.0</td></tr><tr><td>1959-07-05</td><td>null</td><td>45.0</td></tr><tr><td>1959-07-06</td><td>null</td><td>42.0</td></tr><tr><td>1959-07-07</td><td>null</td><td>57.0</td></tr><tr><td>1959-07-08</td><td>null</td><td>46.0</td></tr><tr><td>1959-07-09</td><td>null</td><td>51.0</td></tr><tr><td>1959-07-10</td><td>null</td><td>41.0</td></tr><tr><td>1959-07-11</td><td>null</td><td>47.0</td></tr><tr><td>1959-07-12</td><td>null</td><td>26.0</td></tr><tr><td>1959-07-13</td><td>null</td><td>35.0</td></tr><tr><td>1959-07-14</td><td>null</td><td>44.0</td></tr><tr><td>1959-07-15</td><td>null</td><td>41.0</td></tr><tr><td>1959-07-16</td><td>null</td><td>42.0</td></tr><tr><td>1959-07-17</td><td>null</td><td>36.0</td></tr><tr><td>1959-07-18</td><td>null</td><td>45.0</td></tr><tr><td>1959-07-19</td><td>null</td><td>45.0</td></tr><tr><td>1959-07-20</td><td>null</td><td>45.0</td></tr><tr><td>1959-07-21</td><td>null</td><td>47.0</td></tr><tr><td>1959-07-22</td><td>null</td><td>38.0</td></tr><tr><td>1959-07-23</td><td>null</td><td>42.0</td></tr><tr><td>1959-07-24</td><td>null</td><td>35.0</td></tr><tr><td>1959-07-25</td><td>null</td><td>36.0</td></tr><tr><td>1959-07-26</td><td>null</td><td>39.0</td></tr><tr><td>1959-07-27</td><td>null</td><td>45.0</td></tr><tr><td>1959-07-28</td><td>null</td><td>43.0</td></tr><tr><td>1959-07-29</td><td>null</td><td>47.0</td></tr><tr><td>1959-07-30</td><td>null</td><td>36.0</td></tr><tr><td>1959-07-31</td><td>null</td><td>41.0</td></tr><tr><td>1959-08-01</td><td>null</td><td>50.0</td></tr><tr><td>1959-08-02</td><td>null</td><td>39.0</td></tr><tr><td>1959-08-03</td><td>null</td><td>41.0</td></tr><tr><td>1959-08-04</td><td>null</td><td>46.0</td></tr><tr><td>1959-08-05</td><td>null</td><td>64.0</td></tr><tr><td>1959-08-06</td><td>null</td><td>45.0</td></tr><tr><td>1959-08-07</td><td>null</td><td>34.0</td></tr><tr><td>1959-08-08</td><td>null</td><td>38.0</td></tr><tr><td>1959-08-09</td><td>null</td><td>44.0</td></tr><tr><td>1959-08-10</td><td>null</td><td>48.0</td></tr><tr><td>1959-08-11</td><td>null</td><td>46.0</td></tr><tr><td>1959-08-12</td><td>null</td><td>44.0</td></tr><tr><td>1959-08-13</td><td>null</td><td>37.0</td></tr><tr><td>1959-08-14</td><td>null</td><td>39.0</td></tr><tr><td>1959-08-15</td><td>null</td><td>44.0</td></tr><tr><td>1959-08-16</td><td>null</td><td>45.0</td></tr><tr><td>1959-08-17</td><td>null</td><td>33.0</td></tr><tr><td>1959-08-18</td><td>null</td><td>44.0</td></tr><tr><td>1959-08-19</td><td>null</td><td>38.0</td></tr><tr><td>1959-08-20</td><td>null</td><td>46.0</td></tr><tr><td>1959-08-21</td><td>null</td><td>46.0</td></tr><tr><td>1959-08-22</td><td>null</td><td>40.0</td></tr><tr><td>1959-08-23</td><td>null</td><td>39.0</td></tr><tr><td>1959-08-24</td><td>null</td><td>44.0</td></tr><tr><td>1959-08-25</td><td>null</td><td>48.0</td></tr><tr><td>1959-08-26</td><td>null</td><td>50.0</td></tr><tr><td>1959-08-27</td><td>null</td><td>41.0</td></tr><tr><td>1959-08-28</td><td>null</td><td>42.0</td></tr><tr><td>1959-08-29</td><td>null</td><td>51.0</td></tr><tr><td>1959-08-30</td><td>null</td><td>41.0</td></tr><tr><td>1959-08-31</td><td>null</td><td>44.0</td></tr><tr><td>1959-09-01</td><td>null</td><td>38.0</td></tr><tr><td>1959-09-02</td><td>null</td><td>68.0</td></tr><tr><td>1959-09-03</td><td>null</td><td>40.0</td></tr><tr><td>1959-09-04</td><td>null</td><td>42.0</td></tr><tr><td>1959-09-05</td><td>null</td><td>51.0</td></tr><tr><td>1959-09-06</td><td>null</td><td>44.0</td></tr><tr><td>1959-09-07</td><td>null</td><td>45.0</td></tr><tr><td>1959-09-08</td><td>null</td><td>36.0</td></tr><tr><td>1959-09-09</td><td>null</td><td>57.0</td></tr><tr><td>1959-09-10</td><td>null</td><td>44.0</td></tr><tr><td>1959-09-11</td><td>null</td><td>42.0</td></tr><tr><td>1959-09-12</td><td>null</td><td>53.0</td></tr><tr><td>1959-09-13</td><td>null</td><td>42.0</td></tr><tr><td>1959-09-14</td><td>null</td><td>34.0</td></tr><tr><td>1959-09-15</td><td>null</td><td>40.0</td></tr><tr><td>1959-09-16</td><td>null</td><td>56.0</td></tr><tr><td>1959-09-17</td><td>null</td><td>44.0</td></tr><tr><td>1959-09-18</td><td>null</td><td>53.0</td></tr><tr><td>1959-09-19</td><td>null</td><td>55.0</td></tr><tr><td>1959-09-20</td><td>null</td><td>39.0</td></tr><tr><td>1959-09-21</td><td>null</td><td>59.0</td></tr><tr><td>1959-09-22</td><td>null</td><td>55.0</td></tr><tr><td>1959-09-23</td><td>null</td><td>73.0</td></tr><tr><td>1959-09-24</td><td>null</td><td>55.0</td></tr><tr><td>1959-09-25</td><td>null</td><td>44.0</td></tr><tr><td>1959-09-26</td><td>null</td><td>43.0</td></tr><tr><td>1959-09-27</td><td>null</td><td>40.0</td></tr><tr><td>1959-09-28</td><td>null</td><td>47.0</td></tr><tr><td>1959-09-29</td><td>null</td><td>51.0</td></tr><tr><td>1959-09-30</td><td>null</td><td>56.0</td></tr><tr><td>1959-10-01</td><td>null</td><td>49.0</td></tr><tr><td>1959-10-02</td><td>null</td><td>54.0</td></tr><tr><td>1959-10-03</td><td>null</td><td>56.0</td></tr><tr><td>1959-10-04</td><td>null</td><td>47.0</td></tr><tr><td>1959-10-05</td><td>null</td><td>44.0</td></tr><tr><td>1959-10-06</td><td>null</td><td>43.0</td></tr><tr><td>1959-10-07</td><td>null</td><td>42.0</td></tr><tr><td>1959-10-08</td><td>null</td><td>45.0</td></tr><tr><td>1959-10-09</td><td>null</td><td>50.0</td></tr><tr><td>1959-10-10</td><td>null</td><td>48.0</td></tr><tr><td>1959-10-11</td><td>null</td><td>43.0</td></tr><tr><td>1959-10-12</td><td>null</td><td>40.0</td></tr><tr><td>1959-10-13</td><td>null</td><td>59.0</td></tr><tr><td>1959-10-14</td><td>null</td><td>41.0</td></tr><tr><td>1959-10-15</td><td>null</td><td>42.0</td></tr><tr><td>1959-10-16</td><td>null</td><td>51.0</td></tr><tr><td>1959-10-17</td><td>null</td><td>49.0</td></tr><tr><td>1959-10-18</td><td>null</td><td>45.0</td></tr><tr><td>1959-10-19</td><td>null</td><td>43.0</td></tr><tr><td>1959-10-20</td><td>null</td><td>42.0</td></tr><tr><td>1959-10-21</td><td>null</td><td>38.0</td></tr><tr><td>1959-10-22</td><td>null</td><td>47.0</td></tr><tr><td>1959-10-23</td><td>null</td><td>38.0</td></tr><tr><td>1959-10-24</td><td>null</td><td>36.0</td></tr><tr><td>1959-10-25</td><td>null</td><td>42.0</td></tr><tr><td>1959-10-26</td><td>null</td><td>35.0</td></tr><tr><td>1959-10-27</td><td>null</td><td>28.0</td></tr><tr><td>1959-10-28</td><td>null</td><td>44.0</td></tr><tr><td>1959-10-29</td><td>null</td><td>36.0</td></tr><tr><td>1959-10-30</td><td>null</td><td>45.0</td></tr><tr><td>1959-10-31</td><td>null</td><td>46.0</td></tr><tr><td>1959-11-01</td><td>null</td><td>48.0</td></tr><tr><td>1959-11-02</td><td>null</td><td>49.0</td></tr><tr><td>1959-11-03</td><td>null</td><td>43.0</td></tr><tr><td>1959-11-04</td><td>null</td><td>42.0</td></tr><tr><td>1959-11-05</td><td>null</td><td>59.0</td></tr><tr><td>1959-11-06</td><td>null</td><td>45.0</td></tr><tr><td>1959-11-07</td><td>null</td><td>52.0</td></tr><tr><td>1959-11-08</td><td>null</td><td>46.0</td></tr><tr><td>1959-11-09</td><td>null</td><td>42.0</td></tr><tr><td>1959-11-10</td><td>null</td><td>40.0</td></tr><tr><td>1959-11-11</td><td>null</td><td>40.0</td></tr><tr><td>1959-11-12</td><td>null</td><td>45.0</td></tr><tr><td>1959-11-13</td><td>null</td><td>35.0</td></tr><tr><td>1959-11-14</td><td>null</td><td>35.0</td></tr><tr><td>1959-11-15</td><td>null</td><td>40.0</td></tr><tr><td>1959-11-16</td><td>null</td><td>39.0</td></tr><tr><td>1959-11-17</td><td>null</td><td>33.0</td></tr><tr><td>1959-11-18</td><td>null</td><td>42.0</td></tr><tr><td>1959-11-19</td><td>null</td><td>47.0</td></tr><tr><td>1959-11-20</td><td>null</td><td>51.0</td></tr><tr><td>1959-11-21</td><td>null</td><td>44.0</td></tr><tr><td>1959-11-22</td><td>null</td><td>40.0</td></tr><tr><td>1959-11-23</td><td>null</td><td>57.0</td></tr><tr><td>1959-11-24</td><td>null</td><td>49.0</td></tr><tr><td>1959-11-25</td><td>null</td><td>45.0</td></tr><tr><td>1959-11-26</td><td>null</td><td>49.0</td></tr><tr><td>1959-11-27</td><td>null</td><td>51.0</td></tr><tr><td>1959-11-28</td><td>null</td><td>46.0</td></tr><tr><td>1959-11-29</td><td>null</td><td>44.0</td></tr><tr><td>1959-11-30</td><td>null</td><td>52.0</td></tr><tr><td>1959-12-01</td><td>null</td><td>45.0</td></tr><tr><td>1959-12-02</td><td>null</td><td>32.0</td></tr><tr><td>1959-12-03</td><td>null</td><td>46.0</td></tr><tr><td>1959-12-04</td><td>null</td><td>41.0</td></tr><tr><td>1959-12-05</td><td>null</td><td>34.0</td></tr><tr><td>1959-12-06</td><td>null</td><td>33.0</td></tr><tr><td>1959-12-07</td><td>null</td><td>36.0</td></tr><tr><td>1959-12-08</td><td>null</td><td>49.0</td></tr><tr><td>1959-12-09</td><td>null</td><td>43.0</td></tr><tr><td>1959-12-10</td><td>null</td><td>43.0</td></tr><tr><td>1959-12-11</td><td>null</td><td>34.0</td></tr><tr><td>1959-12-12</td><td>null</td><td>39.0</td></tr><tr><td>1959-12-13</td><td>null</td><td>35.0</td></tr><tr><td>1959-12-14</td><td>null</td><td>52.0</td></tr><tr><td>1959-12-15</td><td>null</td><td>47.0</td></tr><tr><td>1959-12-16</td><td>null</td><td>52.0</td></tr><tr><td>1959-12-17</td><td>null</td><td>39.0</td></tr><tr><td>1959-12-18</td><td>null</td><td>40.0</td></tr><tr><td>1959-12-19</td><td>null</td><td>42.0</td></tr><tr><td>1959-12-20</td><td>null</td><td>42.0</td></tr><tr><td>1959-12-21</td><td>null</td><td>53.0</td></tr><tr><td>1959-12-22</td><td>null</td><td>39.0</td></tr><tr><td>1959-12-23</td><td>null</td><td>40.0</td></tr><tr><td>1959-12-24</td><td>null</td><td>38.0</td></tr><tr><td>1959-12-25</td><td>null</td><td>44.0</td></tr><tr><td>1959-12-26</td><td>null</td><td>34.0</td></tr><tr><td>1959-12-27</td><td>null</td><td>37.0</td></tr><tr><td>1959-12-28</td><td>null</td><td>52.0</td></tr><tr><td>1959-12-29</td><td>null</td><td>48.0</td></tr><tr><td>1959-12-30</td><td>null</td><td>55.0</td></tr><tr><td>1959-12-31</td><td>null</td><td>50.0</td></tr></tbody></table></div>"
      ]
     },
     "metadata": {
      "application/vnd.databricks.v1+output": {
       "addedWidgets": {},
       "aggData": [],
       "aggError": "",
       "aggOverflow": false,
       "aggSchema": [],
       "aggSeriesLimitReached": false,
       "aggType": "",
       "arguments": {},
       "columnCustomDisplayInfos": {},
       "data": [
        [
         "1959-01-01",
         217.4,
         null
        ],
        [
         "1959-02-01",
         143.1,
         null
        ],
        [
         "1959-03-01",
         185.7,
         null
        ],
        [
         "1959-04-01",
         163.3,
         null
        ],
        [
         "1959-05-01",
         172.0,
         null
        ],
        [
         "1959-06-01",
         168.7,
         null
        ],
        [
         "1959-07-01",
         149.6,
         null
        ],
        [
         "1959-08-01",
         199.6,
         null
        ],
        [
         "1959-09-01",
         145.2,
         null
        ],
        [
         "1959-10-01",
         111.4,
         null
        ],
        [
         "1959-11-01",
         124.0,
         null
        ],
        [
         "1959-12-01",
         125.0,
         null
        ],
        [
         "1959-01-01",
         null,
         35.0
        ],
        [
         "1959-01-02",
         null,
         32.0
        ],
        [
         "1959-01-03",
         null,
         30.0
        ],
        [
         "1959-01-04",
         null,
         31.0
        ],
        [
         "1959-01-05",
         null,
         44.0
        ],
        [
         "1959-01-06",
         null,
         29.0
        ],
        [
         "1959-01-07",
         null,
         45.0
        ],
        [
         "1959-01-08",
         null,
         43.0
        ],
        [
         "1959-01-09",
         null,
         38.0
        ],
        [
         "1959-01-10",
         null,
         27.0
        ],
        [
         "1959-01-11",
         null,
         38.0
        ],
        [
         "1959-01-12",
         null,
         33.0
        ],
        [
         "1959-01-13",
         null,
         55.0
        ],
        [
         "1959-01-14",
         null,
         47.0
        ],
        [
         "1959-01-15",
         null,
         45.0
        ],
        [
         "1959-01-16",
         null,
         37.0
        ],
        [
         "1959-01-17",
         null,
         50.0
        ],
        [
         "1959-01-18",
         null,
         43.0
        ],
        [
         "1959-01-19",
         null,
         41.0
        ],
        [
         "1959-01-20",
         null,
         52.0
        ],
        [
         "1959-01-21",
         null,
         34.0
        ],
        [
         "1959-01-22",
         null,
         53.0
        ],
        [
         "1959-01-23",
         null,
         39.0
        ],
        [
         "1959-01-24",
         null,
         32.0
        ],
        [
         "1959-01-25",
         null,
         37.0
        ],
        [
         "1959-01-26",
         null,
         43.0
        ],
        [
         "1959-01-27",
         null,
         39.0
        ],
        [
         "1959-01-28",
         null,
         35.0
        ],
        [
         "1959-01-29",
         null,
         44.0
        ],
        [
         "1959-01-30",
         null,
         38.0
        ],
        [
         "1959-01-31",
         null,
         24.0
        ],
        [
         "1959-02-01",
         null,
         23.0
        ],
        [
         "1959-02-02",
         null,
         31.0
        ],
        [
         "1959-02-03",
         null,
         44.0
        ],
        [
         "1959-02-04",
         null,
         38.0
        ],
        [
         "1959-02-05",
         null,
         50.0
        ],
        [
         "1959-02-06",
         null,
         38.0
        ],
        [
         "1959-02-07",
         null,
         51.0
        ],
        [
         "1959-02-08",
         null,
         31.0
        ],
        [
         "1959-02-09",
         null,
         31.0
        ],
        [
         "1959-02-10",
         null,
         51.0
        ],
        [
         "1959-02-11",
         null,
         36.0
        ],
        [
         "1959-02-12",
         null,
         45.0
        ],
        [
         "1959-02-13",
         null,
         51.0
        ],
        [
         "1959-02-14",
         null,
         34.0
        ],
        [
         "1959-02-15",
         null,
         52.0
        ],
        [
         "1959-02-16",
         null,
         47.0
        ],
        [
         "1959-02-17",
         null,
         45.0
        ],
        [
         "1959-02-18",
         null,
         46.0
        ],
        [
         "1959-02-19",
         null,
         39.0
        ],
        [
         "1959-02-20",
         null,
         48.0
        ],
        [
         "1959-02-21",
         null,
         37.0
        ],
        [
         "1959-02-22",
         null,
         35.0
        ],
        [
         "1959-02-23",
         null,
         52.0
        ],
        [
         "1959-02-24",
         null,
         42.0
        ],
        [
         "1959-02-25",
         null,
         45.0
        ],
        [
         "1959-02-26",
         null,
         39.0
        ],
        [
         "1959-02-27",
         null,
         37.0
        ],
        [
         "1959-02-28",
         null,
         30.0
        ],
        [
         "1959-03-01",
         null,
         35.0
        ],
        [
         "1959-03-02",
         null,
         28.0
        ],
        [
         "1959-03-03",
         null,
         45.0
        ],
        [
         "1959-03-04",
         null,
         34.0
        ],
        [
         "1959-03-05",
         null,
         36.0
        ],
        [
         "1959-03-06",
         null,
         50.0
        ],
        [
         "1959-03-07",
         null,
         44.0
        ],
        [
         "1959-03-08",
         null,
         39.0
        ],
        [
         "1959-03-09",
         null,
         32.0
        ],
        [
         "1959-03-10",
         null,
         39.0
        ],
        [
         "1959-03-11",
         null,
         45.0
        ],
        [
         "1959-03-12",
         null,
         43.0
        ],
        [
         "1959-03-13",
         null,
         39.0
        ],
        [
         "1959-03-14",
         null,
         31.0
        ],
        [
         "1959-03-15",
         null,
         27.0
        ],
        [
         "1959-03-16",
         null,
         30.0
        ],
        [
         "1959-03-17",
         null,
         42.0
        ],
        [
         "1959-03-18",
         null,
         46.0
        ],
        [
         "1959-03-19",
         null,
         41.0
        ],
        [
         "1959-03-20",
         null,
         36.0
        ],
        [
         "1959-03-21",
         null,
         45.0
        ],
        [
         "1959-03-22",
         null,
         46.0
        ],
        [
         "1959-03-23",
         null,
         43.0
        ],
        [
         "1959-03-24",
         null,
         38.0
        ],
        [
         "1959-03-25",
         null,
         34.0
        ],
        [
         "1959-03-26",
         null,
         35.0
        ],
        [
         "1959-03-27",
         null,
         56.0
        ],
        [
         "1959-03-28",
         null,
         36.0
        ],
        [
         "1959-03-29",
         null,
         32.0
        ],
        [
         "1959-03-30",
         null,
         50.0
        ],
        [
         "1959-03-31",
         null,
         41.0
        ],
        [
         "1959-04-01",
         null,
         39.0
        ],
        [
         "1959-04-02",
         null,
         41.0
        ],
        [
         "1959-04-03",
         null,
         47.0
        ],
        [
         "1959-04-04",
         null,
         34.0
        ],
        [
         "1959-04-05",
         null,
         36.0
        ],
        [
         "1959-04-06",
         null,
         33.0
        ],
        [
         "1959-04-07",
         null,
         35.0
        ],
        [
         "1959-04-08",
         null,
         38.0
        ],
        [
         "1959-04-09",
         null,
         38.0
        ],
        [
         "1959-04-10",
         null,
         34.0
        ],
        [
         "1959-04-11",
         null,
         53.0
        ],
        [
         "1959-04-12",
         null,
         34.0
        ],
        [
         "1959-04-13",
         null,
         34.0
        ],
        [
         "1959-04-14",
         null,
         38.0
        ],
        [
         "1959-04-15",
         null,
         35.0
        ],
        [
         "1959-04-16",
         null,
         32.0
        ],
        [
         "1959-04-17",
         null,
         42.0
        ],
        [
         "1959-04-18",
         null,
         34.0
        ],
        [
         "1959-04-19",
         null,
         46.0
        ],
        [
         "1959-04-20",
         null,
         30.0
        ],
        [
         "1959-04-21",
         null,
         46.0
        ],
        [
         "1959-04-22",
         null,
         45.0
        ],
        [
         "1959-04-23",
         null,
         54.0
        ],
        [
         "1959-04-24",
         null,
         34.0
        ],
        [
         "1959-04-25",
         null,
         37.0
        ],
        [
         "1959-04-26",
         null,
         35.0
        ],
        [
         "1959-04-27",
         null,
         40.0
        ],
        [
         "1959-04-28",
         null,
         42.0
        ],
        [
         "1959-04-29",
         null,
         58.0
        ],
        [
         "1959-04-30",
         null,
         51.0
        ],
        [
         "1959-05-01",
         null,
         32.0
        ],
        [
         "1959-05-02",
         null,
         35.0
        ],
        [
         "1959-05-03",
         null,
         38.0
        ],
        [
         "1959-05-04",
         null,
         33.0
        ],
        [
         "1959-05-05",
         null,
         39.0
        ],
        [
         "1959-05-06",
         null,
         47.0
        ],
        [
         "1959-05-07",
         null,
         38.0
        ],
        [
         "1959-05-08",
         null,
         52.0
        ],
        [
         "1959-05-09",
         null,
         30.0
        ],
        [
         "1959-05-10",
         null,
         34.0
        ],
        [
         "1959-05-11",
         null,
         40.0
        ],
        [
         "1959-05-12",
         null,
         35.0
        ],
        [
         "1959-05-13",
         null,
         42.0
        ],
        [
         "1959-05-14",
         null,
         41.0
        ],
        [
         "1959-05-15",
         null,
         42.0
        ],
        [
         "1959-05-16",
         null,
         38.0
        ],
        [
         "1959-05-17",
         null,
         24.0
        ],
        [
         "1959-05-18",
         null,
         34.0
        ],
        [
         "1959-05-19",
         null,
         43.0
        ],
        [
         "1959-05-20",
         null,
         36.0
        ],
        [
         "1959-05-21",
         null,
         55.0
        ],
        [
         "1959-05-22",
         null,
         41.0
        ],
        [
         "1959-05-23",
         null,
         45.0
        ],
        [
         "1959-05-24",
         null,
         41.0
        ],
        [
         "1959-05-25",
         null,
         37.0
        ],
        [
         "1959-05-26",
         null,
         43.0
        ],
        [
         "1959-05-27",
         null,
         39.0
        ],
        [
         "1959-05-28",
         null,
         33.0
        ],
        [
         "1959-05-29",
         null,
         43.0
        ],
        [
         "1959-05-30",
         null,
         40.0
        ],
        [
         "1959-05-31",
         null,
         38.0
        ],
        [
         "1959-06-01",
         null,
         45.0
        ],
        [
         "1959-06-02",
         null,
         46.0
        ],
        [
         "1959-06-03",
         null,
         34.0
        ],
        [
         "1959-06-04",
         null,
         35.0
        ],
        [
         "1959-06-05",
         null,
         48.0
        ],
        [
         "1959-06-06",
         null,
         51.0
        ],
        [
         "1959-06-07",
         null,
         36.0
        ],
        [
         "1959-06-08",
         null,
         33.0
        ],
        [
         "1959-06-09",
         null,
         46.0
        ],
        [
         "1959-06-10",
         null,
         42.0
        ],
        [
         "1959-06-11",
         null,
         48.0
        ],
        [
         "1959-06-12",
         null,
         34.0
        ],
        [
         "1959-06-13",
         null,
         41.0
        ],
        [
         "1959-06-14",
         null,
         35.0
        ],
        [
         "1959-06-15",
         null,
         40.0
        ],
        [
         "1959-06-16",
         null,
         34.0
        ],
        [
         "1959-06-17",
         null,
         30.0
        ],
        [
         "1959-06-18",
         null,
         36.0
        ],
        [
         "1959-06-19",
         null,
         40.0
        ],
        [
         "1959-06-20",
         null,
         39.0
        ],
        [
         "1959-06-21",
         null,
         45.0
        ],
        [
         "1959-06-22",
         null,
         38.0
        ],
        [
         "1959-06-23",
         null,
         47.0
        ],
        [
         "1959-06-24",
         null,
         33.0
        ],
        [
         "1959-06-25",
         null,
         30.0
        ],
        [
         "1959-06-26",
         null,
         42.0
        ],
        [
         "1959-06-27",
         null,
         43.0
        ],
        [
         "1959-06-28",
         null,
         41.0
        ],
        [
         "1959-06-29",
         null,
         41.0
        ],
        [
         "1959-06-30",
         null,
         59.0
        ],
        [
         "1959-07-01",
         null,
         43.0
        ],
        [
         "1959-07-02",
         null,
         45.0
        ],
        [
         "1959-07-03",
         null,
         38.0
        ],
        [
         "1959-07-04",
         null,
         37.0
        ],
        [
         "1959-07-05",
         null,
         45.0
        ],
        [
         "1959-07-06",
         null,
         42.0
        ],
        [
         "1959-07-07",
         null,
         57.0
        ],
        [
         "1959-07-08",
         null,
         46.0
        ],
        [
         "1959-07-09",
         null,
         51.0
        ],
        [
         "1959-07-10",
         null,
         41.0
        ],
        [
         "1959-07-11",
         null,
         47.0
        ],
        [
         "1959-07-12",
         null,
         26.0
        ],
        [
         "1959-07-13",
         null,
         35.0
        ],
        [
         "1959-07-14",
         null,
         44.0
        ],
        [
         "1959-07-15",
         null,
         41.0
        ],
        [
         "1959-07-16",
         null,
         42.0
        ],
        [
         "1959-07-17",
         null,
         36.0
        ],
        [
         "1959-07-18",
         null,
         45.0
        ],
        [
         "1959-07-19",
         null,
         45.0
        ],
        [
         "1959-07-20",
         null,
         45.0
        ],
        [
         "1959-07-21",
         null,
         47.0
        ],
        [
         "1959-07-22",
         null,
         38.0
        ],
        [
         "1959-07-23",
         null,
         42.0
        ],
        [
         "1959-07-24",
         null,
         35.0
        ],
        [
         "1959-07-25",
         null,
         36.0
        ],
        [
         "1959-07-26",
         null,
         39.0
        ],
        [
         "1959-07-27",
         null,
         45.0
        ],
        [
         "1959-07-28",
         null,
         43.0
        ],
        [
         "1959-07-29",
         null,
         47.0
        ],
        [
         "1959-07-30",
         null,
         36.0
        ],
        [
         "1959-07-31",
         null,
         41.0
        ],
        [
         "1959-08-01",
         null,
         50.0
        ],
        [
         "1959-08-02",
         null,
         39.0
        ],
        [
         "1959-08-03",
         null,
         41.0
        ],
        [
         "1959-08-04",
         null,
         46.0
        ],
        [
         "1959-08-05",
         null,
         64.0
        ],
        [
         "1959-08-06",
         null,
         45.0
        ],
        [
         "1959-08-07",
         null,
         34.0
        ],
        [
         "1959-08-08",
         null,
         38.0
        ],
        [
         "1959-08-09",
         null,
         44.0
        ],
        [
         "1959-08-10",
         null,
         48.0
        ],
        [
         "1959-08-11",
         null,
         46.0
        ],
        [
         "1959-08-12",
         null,
         44.0
        ],
        [
         "1959-08-13",
         null,
         37.0
        ],
        [
         "1959-08-14",
         null,
         39.0
        ],
        [
         "1959-08-15",
         null,
         44.0
        ],
        [
         "1959-08-16",
         null,
         45.0
        ],
        [
         "1959-08-17",
         null,
         33.0
        ],
        [
         "1959-08-18",
         null,
         44.0
        ],
        [
         "1959-08-19",
         null,
         38.0
        ],
        [
         "1959-08-20",
         null,
         46.0
        ],
        [
         "1959-08-21",
         null,
         46.0
        ],
        [
         "1959-08-22",
         null,
         40.0
        ],
        [
         "1959-08-23",
         null,
         39.0
        ],
        [
         "1959-08-24",
         null,
         44.0
        ],
        [
         "1959-08-25",
         null,
         48.0
        ],
        [
         "1959-08-26",
         null,
         50.0
        ],
        [
         "1959-08-27",
         null,
         41.0
        ],
        [
         "1959-08-28",
         null,
         42.0
        ],
        [
         "1959-08-29",
         null,
         51.0
        ],
        [
         "1959-08-30",
         null,
         41.0
        ],
        [
         "1959-08-31",
         null,
         44.0
        ],
        [
         "1959-09-01",
         null,
         38.0
        ],
        [
         "1959-09-02",
         null,
         68.0
        ],
        [
         "1959-09-03",
         null,
         40.0
        ],
        [
         "1959-09-04",
         null,
         42.0
        ],
        [
         "1959-09-05",
         null,
         51.0
        ],
        [
         "1959-09-06",
         null,
         44.0
        ],
        [
         "1959-09-07",
         null,
         45.0
        ],
        [
         "1959-09-08",
         null,
         36.0
        ],
        [
         "1959-09-09",
         null,
         57.0
        ],
        [
         "1959-09-10",
         null,
         44.0
        ],
        [
         "1959-09-11",
         null,
         42.0
        ],
        [
         "1959-09-12",
         null,
         53.0
        ],
        [
         "1959-09-13",
         null,
         42.0
        ],
        [
         "1959-09-14",
         null,
         34.0
        ],
        [
         "1959-09-15",
         null,
         40.0
        ],
        [
         "1959-09-16",
         null,
         56.0
        ],
        [
         "1959-09-17",
         null,
         44.0
        ],
        [
         "1959-09-18",
         null,
         53.0
        ],
        [
         "1959-09-19",
         null,
         55.0
        ],
        [
         "1959-09-20",
         null,
         39.0
        ],
        [
         "1959-09-21",
         null,
         59.0
        ],
        [
         "1959-09-22",
         null,
         55.0
        ],
        [
         "1959-09-23",
         null,
         73.0
        ],
        [
         "1959-09-24",
         null,
         55.0
        ],
        [
         "1959-09-25",
         null,
         44.0
        ],
        [
         "1959-09-26",
         null,
         43.0
        ],
        [
         "1959-09-27",
         null,
         40.0
        ],
        [
         "1959-09-28",
         null,
         47.0
        ],
        [
         "1959-09-29",
         null,
         51.0
        ],
        [
         "1959-09-30",
         null,
         56.0
        ],
        [
         "1959-10-01",
         null,
         49.0
        ],
        [
         "1959-10-02",
         null,
         54.0
        ],
        [
         "1959-10-03",
         null,
         56.0
        ],
        [
         "1959-10-04",
         null,
         47.0
        ],
        [
         "1959-10-05",
         null,
         44.0
        ],
        [
         "1959-10-06",
         null,
         43.0
        ],
        [
         "1959-10-07",
         null,
         42.0
        ],
        [
         "1959-10-08",
         null,
         45.0
        ],
        [
         "1959-10-09",
         null,
         50.0
        ],
        [
         "1959-10-10",
         null,
         48.0
        ],
        [
         "1959-10-11",
         null,
         43.0
        ],
        [
         "1959-10-12",
         null,
         40.0
        ],
        [
         "1959-10-13",
         null,
         59.0
        ],
        [
         "1959-10-14",
         null,
         41.0
        ],
        [
         "1959-10-15",
         null,
         42.0
        ],
        [
         "1959-10-16",
         null,
         51.0
        ],
        [
         "1959-10-17",
         null,
         49.0
        ],
        [
         "1959-10-18",
         null,
         45.0
        ],
        [
         "1959-10-19",
         null,
         43.0
        ],
        [
         "1959-10-20",
         null,
         42.0
        ],
        [
         "1959-10-21",
         null,
         38.0
        ],
        [
         "1959-10-22",
         null,
         47.0
        ],
        [
         "1959-10-23",
         null,
         38.0
        ],
        [
         "1959-10-24",
         null,
         36.0
        ],
        [
         "1959-10-25",
         null,
         42.0
        ],
        [
         "1959-10-26",
         null,
         35.0
        ],
        [
         "1959-10-27",
         null,
         28.0
        ],
        [
         "1959-10-28",
         null,
         44.0
        ],
        [
         "1959-10-29",
         null,
         36.0
        ],
        [
         "1959-10-30",
         null,
         45.0
        ],
        [
         "1959-10-31",
         null,
         46.0
        ],
        [
         "1959-11-01",
         null,
         48.0
        ],
        [
         "1959-11-02",
         null,
         49.0
        ],
        [
         "1959-11-03",
         null,
         43.0
        ],
        [
         "1959-11-04",
         null,
         42.0
        ],
        [
         "1959-11-05",
         null,
         59.0
        ],
        [
         "1959-11-06",
         null,
         45.0
        ],
        [
         "1959-11-07",
         null,
         52.0
        ],
        [
         "1959-11-08",
         null,
         46.0
        ],
        [
         "1959-11-09",
         null,
         42.0
        ],
        [
         "1959-11-10",
         null,
         40.0
        ],
        [
         "1959-11-11",
         null,
         40.0
        ],
        [
         "1959-11-12",
         null,
         45.0
        ],
        [
         "1959-11-13",
         null,
         35.0
        ],
        [
         "1959-11-14",
         null,
         35.0
        ],
        [
         "1959-11-15",
         null,
         40.0
        ],
        [
         "1959-11-16",
         null,
         39.0
        ],
        [
         "1959-11-17",
         null,
         33.0
        ],
        [
         "1959-11-18",
         null,
         42.0
        ],
        [
         "1959-11-19",
         null,
         47.0
        ],
        [
         "1959-11-20",
         null,
         51.0
        ],
        [
         "1959-11-21",
         null,
         44.0
        ],
        [
         "1959-11-22",
         null,
         40.0
        ],
        [
         "1959-11-23",
         null,
         57.0
        ],
        [
         "1959-11-24",
         null,
         49.0
        ],
        [
         "1959-11-25",
         null,
         45.0
        ],
        [
         "1959-11-26",
         null,
         49.0
        ],
        [
         "1959-11-27",
         null,
         51.0
        ],
        [
         "1959-11-28",
         null,
         46.0
        ],
        [
         "1959-11-29",
         null,
         44.0
        ],
        [
         "1959-11-30",
         null,
         52.0
        ],
        [
         "1959-12-01",
         null,
         45.0
        ],
        [
         "1959-12-02",
         null,
         32.0
        ],
        [
         "1959-12-03",
         null,
         46.0
        ],
        [
         "1959-12-04",
         null,
         41.0
        ],
        [
         "1959-12-05",
         null,
         34.0
        ],
        [
         "1959-12-06",
         null,
         33.0
        ],
        [
         "1959-12-07",
         null,
         36.0
        ],
        [
         "1959-12-08",
         null,
         49.0
        ],
        [
         "1959-12-09",
         null,
         43.0
        ],
        [
         "1959-12-10",
         null,
         43.0
        ],
        [
         "1959-12-11",
         null,
         34.0
        ],
        [
         "1959-12-12",
         null,
         39.0
        ],
        [
         "1959-12-13",
         null,
         35.0
        ],
        [
         "1959-12-14",
         null,
         52.0
        ],
        [
         "1959-12-15",
         null,
         47.0
        ],
        [
         "1959-12-16",
         null,
         52.0
        ],
        [
         "1959-12-17",
         null,
         39.0
        ],
        [
         "1959-12-18",
         null,
         40.0
        ],
        [
         "1959-12-19",
         null,
         42.0
        ],
        [
         "1959-12-20",
         null,
         42.0
        ],
        [
         "1959-12-21",
         null,
         53.0
        ],
        [
         "1959-12-22",
         null,
         39.0
        ],
        [
         "1959-12-23",
         null,
         40.0
        ],
        [
         "1959-12-24",
         null,
         38.0
        ],
        [
         "1959-12-25",
         null,
         44.0
        ],
        [
         "1959-12-26",
         null,
         34.0
        ],
        [
         "1959-12-27",
         null,
         37.0
        ],
        [
         "1959-12-28",
         null,
         52.0
        ],
        [
         "1959-12-29",
         null,
         48.0
        ],
        [
         "1959-12-30",
         null,
         55.0
        ],
        [
         "1959-12-31",
         null,
         50.0
        ]
       ],
       "datasetInfos": [],
       "dbfsResultPath": null,
       "isJsonSchema": true,
       "metadata": {},
       "overflow": false,
       "plotOptions": {
        "customPlotOptions": {},
        "displayType": "table",
        "pivotAggregation": null,
        "pivotColumns": null,
        "xColumns": null,
        "yColumns": null
       },
       "removedWidgets": [],
       "schema": [
        {
         "metadata": "{}",
         "name": "Date",
         "type": "\"date\""
        },
        {
         "metadata": "{}",
         "name": "Sunspots",
         "type": "\"double\""
        },
        {
         "metadata": "{}",
         "name": "Births",
         "type": "\"double\""
        }
       ],
       "type": "table"
      }
     },
     "output_type": "display_data"
    },
    {
     "output_type": "display_data",
     "data": {
      "text/plain": [
       "Databricks visualization. Run in Databricks to view."
      ]
     },
     "metadata": {
      "application/vnd.databricks.v1.subcommand+json": {
       "bindings": {},
       "collapsed": false,
       "command": "%python\n__backend_agg_display_orig = display\n__backend_agg_dfs = []\ndef __backend_agg_display_new(df):\n    __backend_agg_df_modules = [\"pandas.core.frame\", \"databricks.koalas.frame\", \"pyspark.sql.dataframe\", \"pyspark.pandas.frame\", \"pyspark.sql.connect.dataframe\"]\n    if (type(df).__module__ in __backend_agg_df_modules and type(df).__name__ == 'DataFrame') or isinstance(df, list):\n        __backend_agg_dfs.append(df)\n\ndisplay = __backend_agg_display_new\n\ndef __backend_agg_user_code_fn():\n    import base64\n    exec(base64.standard_b64decode(\"IyBub3cgd2UgbmVlZCB0byBhZGQgdGhlIHR3byBkYXRhc2V0cyB0b2dldGhlciBidXQgb25lIGlzIGRhdGV3aWVzIGFuZCBvbmUgbW9udGh3aXNlIHNvIHdlIGNhbm5vdCB1c2UgYSBqb2luCiMgaW5zdGVhZCB3ZSB3aWxsIGNyZWF0ZSBjb21wYXRpYmxlIGNvbHVtbnMgYW5kIHVuaW9uIHRoZSBkYXRhZnJhbWVzIHRvZ2V0aGVyCgpiaXJ0aHNfZGZfY29tcGF0aWJsZSA9IGJpcnRoc19kZi53aXRoQ29sdW1uKAogICdEYXRlJywgZm4udG9fZGF0ZSgnRGF0ZScsICd5eXl5LU1NLWRkJykKKS53aXRoQ29sdW1uKAogICdTdW5zcG90cycgLCBmbi5saXQoTm9uZSkuY2FzdChULkxvbmdUeXBlKCkpCikuc2VsZWN0KAogICdEYXRlJywKICAnU3Vuc3BvdHMnLAogICdCaXJ0aHMnLAopCgpzdW5zcG90c19kZl9jb21wYXRpYmxlID0gc3Vuc3BvdHNfZGYud2l0aENvbHVtbigKICAnRGF0ZScsIGZuLnRvX2RhdGUoJ01vbnRoJywgJ3l5eXktTU0nKQopLndpdGhDb2x1bW4oCiAgICdCaXJ0aHMnICwgZm4ubGl0KE5vbmUpLmNhc3QoVC5Eb3VibGVUeXBlKCkpCikuc2VsZWN0KAogICdEYXRlJywKICAnU3Vuc3BvdHMnLAogICdCaXJ0aHMnLAopLmZpbHRlcigKICBmbi55ZWFyKCdEYXRlJykgPT0gMTk1OQopCgp1bmlvbmVkX2RmID0gc3Vuc3BvdHNfZGZfY29tcGF0aWJsZS51bmlvbihiaXJ0aHNfZGZfY29tcGF0aWJsZSkKCmRpc3BsYXkodW5pb25lZF9kZik=\").decode())\n\ntry:\n    # run user code\n    __backend_agg_user_code_fn()\n\n    #reset display function\n    display = __backend_agg_display_orig\n\n    if len(__backend_agg_dfs) > 0:\n        # create a temp view\n        if type(__backend_agg_dfs[0]).__module__ == \"databricks.koalas.frame\":\n            # koalas dataframe\n            __backend_agg_dfs[0].to_spark().createOrReplaceTempView(\"DatabricksView45c648e\")\n        elif type(__backend_agg_dfs[0]).__module__ == \"pandas.core.frame\" or isinstance(__backend_agg_dfs[0], list):\n            # pandas dataframe\n            spark.createDataFrame(__backend_agg_dfs[0]).createOrReplaceTempView(\"DatabricksView45c648e\")\n        else:\n            __backend_agg_dfs[0].createOrReplaceTempView(\"DatabricksView45c648e\")\n        #run backend agg\n        display(spark.sql(\"\"\"WITH q AS (select * from DatabricksView45c648e) SELECT SUM(`Sunspots`) `column_7d4ac02f68`,SUM(`Births`) `column_7d4ac02f158`,`Date` FROM q GROUP BY `Date`\"\"\"))\n    else:\n        displayHTML(\"dataframe no longer exists. If you're using dataframe.display(), use display(dataframe) instead.\")\n\n\nfinally:\n    spark.sql(\"drop view if exists DatabricksView45c648e\")\n    display = __backend_agg_display_orig\n    del __backend_agg_display_new\n    del __backend_agg_display_orig\n    del __backend_agg_dfs\n    del __backend_agg_user_code_fn\n\n",
       "commandTitle": "Visualization 1",
       "commandType": "auto",
       "commandVersion": 0,
       "commentThread": [],
       "commentsVisible": false,
       "contentSha256Hex": null,
       "customPlotOptions": {
        "redashChart": [
         {
          "key": "type",
          "value": "CHART"
         },
         {
          "key": "options",
          "value": {
           "alignYAxesAtZero": true,
           "coefficient": 1,
           "columnConfigurationMap": {
            "x": {
             "column": "Date",
             "id": "column_7d4ac02f69"
            },
            "y": [
             {
              "column": "Sunspots",
              "id": "column_7d4ac02f68",
              "transform": "SUM"
             },
             {
              "column": "Births",
              "id": "column_7d4ac02f158",
              "transform": "SUM"
             }
            ]
           },
           "dateTimeFormat": "DD/MM/YYYY HH:mm",
           "direction": {
            "type": "counterclockwise"
           },
           "error_y": {
            "type": "data",
            "visible": true
           },
           "globalSeriesType": "column",
           "isAggregationOn": true,
           "legend": {
            "traceorder": "normal"
           },
           "missingValuesAsZero": true,
           "numberFormat": "0,0[.]00000",
           "percentFormat": "0[.]00%",
           "series": {
            "error_y": {
             "type": "data",
             "visible": true
            },
            "stacking": null
           },
           "seriesOptions": {
            "column_7d4ac02f158": {
             "type": "column",
             "yAxis": 0
            },
            "column_7d4ac02f67": {
             "name": "Sunspots",
             "type": "column",
             "yAxis": 0
            },
            "column_7d4ac02f68": {
             "name": "Births",
             "type": "column",
             "yAxis": 0
            }
           },
           "showDataLabels": false,
           "sizemode": "diameter",
           "sortX": true,
           "sortY": true,
           "swappedAxes": false,
           "textFormat": "",
           "useAggregationsUi": true,
           "valuesOptions": {},
           "version": 2,
           "xAxis": {
            "labels": {
             "enabled": true
            },
            "type": "-"
           },
           "yAxis": [
            {
             "type": "-"
            },
            {
             "opposite": true,
             "type": "-"
            }
           ]
          }
         }
        ]
       },
       "datasetPreviewNameToCmdIdMap": {},
       "diffDeletes": [],
       "diffInserts": [],
       "displayType": "redashChart",
       "error": null,
       "errorSummary": null,
       "errorTraceType": null,
       "finishTime": 0,
       "globalVars": {},
       "guid": "",
       "height": "auto",
       "hideCommandCode": false,
       "hideCommandResult": false,
       "iPythonMetadata": null,
       "inputWidgets": {},
       "isLockedInExamMode": false,
       "latestUser": "a user",
       "latestUserId": null,
       "listResultMetadata": null,
       "metadata": {
        "byteLimit": 2048000,
        "rowLimit": 10000
       },
       "nuid": "1342ce81-09d4-4381-914b-30571a7b60b5",
       "origId": 0,
       "parentHierarchy": [],
       "pivotAggregation": null,
       "pivotColumns": null,
       "position": 7.0,
       "resultDbfsErrorMessage": null,
       "resultDbfsStatus": "INLINED_IN_TREE",
       "results": null,
       "showCommandTitle": false,
       "startTime": 0,
       "state": "input",
       "streamStates": {},
       "subcommandOptions": {
        "queryPlan": {
         "groups": [
          {
           "column": "Date",
           "type": "column"
          }
         ],
         "selects": [
          {
           "alias": "column_7d4ac02f68",
           "args": [
            {
             "column": "Sunspots",
             "type": "column"
            }
           ],
           "function": "SUM",
           "type": "function"
          },
          {
           "alias": "column_7d4ac02f158",
           "args": [
            {
             "column": "Births",
             "type": "column"
            }
           ],
           "function": "SUM",
           "type": "function"
          },
          {
           "column": "Date",
           "type": "column"
          }
         ]
        }
       },
       "submitTime": 0,
       "subtype": "tableResultSubCmd.visualization",
       "tableResultIndex": 0,
       "useConsistentColors": false,
       "version": "CommandV1",
       "width": "auto",
       "workflows": [],
       "xColumns": null,
       "yColumns": null
      }
     },
     "output_type": "display_data"
    },
    {
     "output_type": "display_data",
     "data": {
      "text/plain": [
       "Databricks visualization. Run in Databricks to view."
      ]
     },
     "metadata": {
      "application/vnd.databricks.v1.subcommand+json": {
       "bindings": {},
       "collapsed": false,
       "command": "%python\n__backend_agg_display_orig = display\n__backend_agg_dfs = []\ndef __backend_agg_display_new(df):\n    __backend_agg_df_modules = [\"pandas.core.frame\", \"databricks.koalas.frame\", \"pyspark.sql.dataframe\", \"pyspark.pandas.frame\", \"pyspark.sql.connect.dataframe\"]\n    if (type(df).__module__ in __backend_agg_df_modules and type(df).__name__ == 'DataFrame') or isinstance(df, list):\n        __backend_agg_dfs.append(df)\n\ndisplay = __backend_agg_display_new\n\ndef __backend_agg_user_code_fn():\n    import base64\n    exec(base64.standard_b64decode(\"IyBub3cgd2UgbmVlZCB0byBhZGQgdGhlIHR3byBkYXRhc2V0cyB0b2dldGhlciBidXQgb25lIGlzIGRhdGV3aWVzIGFuZCBvbmUgbW9udGh3aXNlIHNvIHdlIGNhbm5vdCB1c2UgYSBqb2luCiMgaW5zdGVhZCB3ZSB3aWxsIGNyZWF0ZSBjb21wYXRpYmxlIGNvbHVtbnMgYW5kIHVuaW9uIHRoZSBkYXRhZnJhbWVzIHRvZ2V0aGVyCgpiaXJ0aHNfZGZfY29tcGF0aWJsZSA9IGJpcnRoc19kZi53aXRoQ29sdW1uKAogICdEYXRlJywgZm4udG9fZGF0ZSgnRGF0ZScsICd5eXl5LU1NLWRkJykKKS53aXRoQ29sdW1uKAogICdTdW5zcG90cycgLCBmbi5saXQoTm9uZSkuY2FzdChULkxvbmdUeXBlKCkpCikuc2VsZWN0KAogICdEYXRlJywKICAnU3Vuc3BvdHMnLAogICdCaXJ0aHMnLAopCgpzdW5zcG90c19kZl9jb21wYXRpYmxlID0gc3Vuc3BvdHNfZGYud2l0aENvbHVtbigKICAnRGF0ZScsIGZuLnRvX2RhdGUoJ01vbnRoJywgJ3l5eXktTU0nKQopLndpdGhDb2x1bW4oCiAgICdCaXJ0aHMnICwgZm4ubGl0KE5vbmUpLmNhc3QoVC5Eb3VibGVUeXBlKCkpCikuc2VsZWN0KAogICdEYXRlJywKICAnU3Vuc3BvdHMnLAogICdCaXJ0aHMnLAopLmZpbHRlcigKICBmbi55ZWFyKCdEYXRlJykgPT0gMTk1OQopCgp1bmlvbmVkX2RmID0gc3Vuc3BvdHNfZGZfY29tcGF0aWJsZS51bmlvbihiaXJ0aHNfZGZfY29tcGF0aWJsZSkKCmRpc3BsYXkodW5pb25lZF9kZik=\").decode())\n\ntry:\n    # run user code\n    __backend_agg_user_code_fn()\n\n    #reset display function\n    display = __backend_agg_display_orig\n\n    if len(__backend_agg_dfs) > 0:\n        # create a temp view\n        if type(__backend_agg_dfs[0]).__module__ == \"databricks.koalas.frame\":\n            # koalas dataframe\n            __backend_agg_dfs[0].to_spark().createOrReplaceTempView(\"DatabricksViewaaeb3f1\")\n        elif type(__backend_agg_dfs[0]).__module__ == \"pandas.core.frame\" or isinstance(__backend_agg_dfs[0], list):\n            # pandas dataframe\n            spark.createDataFrame(__backend_agg_dfs[0]).createOrReplaceTempView(\"DatabricksViewaaeb3f1\")\n        else:\n            __backend_agg_dfs[0].createOrReplaceTempView(\"DatabricksViewaaeb3f1\")\n        #run backend agg\n        display(spark.sql(\"\"\"WITH q AS (select * from DatabricksViewaaeb3f1) SELECT SUM(`Sunspots`) `column_7d4ac02f165`,SUM(`Births`) `column_7d4ac02f166`,`Date` FROM q GROUP BY `Date`\"\"\"))\n    else:\n        displayHTML(\"dataframe no longer exists. If you're using dataframe.display(), use display(dataframe) instead.\")\n\n\nfinally:\n    spark.sql(\"drop view if exists DatabricksViewaaeb3f1\")\n    display = __backend_agg_display_orig\n    del __backend_agg_display_new\n    del __backend_agg_display_orig\n    del __backend_agg_dfs\n    del __backend_agg_user_code_fn\n\n",
       "commandTitle": "Visualization 2",
       "commandType": "auto",
       "commandVersion": 0,
       "commentThread": [],
       "commentsVisible": false,
       "contentSha256Hex": null,
       "customPlotOptions": {
        "redashChart": [
         {
          "key": "type",
          "value": "CHART"
         },
         {
          "key": "options",
          "value": {
           "alignYAxesAtZero": true,
           "coefficient": 1,
           "columnConfigurationMap": {
            "x": {
             "column": "Date",
             "id": "column_7d4ac02f167"
            },
            "y": [
             {
              "column": "Sunspots",
              "id": "column_7d4ac02f165",
              "transform": "SUM"
             },
             {
              "column": "Births",
              "id": "column_7d4ac02f166",
              "transform": "SUM"
             }
            ]
           },
           "dateTimeFormat": "DD/MM/YYYY HH:mm",
           "direction": {
            "type": "counterclockwise"
           },
           "error_y": {
            "type": "data",
            "visible": true
           },
           "globalSeriesType": "column",
           "isAggregationOn": true,
           "legend": {
            "traceorder": "normal"
           },
           "missingValuesAsZero": true,
           "numberFormat": "0,0[.]00000",
           "percentFormat": "0[.]00%",
           "series": {
            "error_y": {
             "type": "data",
             "visible": true
            },
            "stacking": null
           },
           "seriesOptions": {
            "column_7d4ac02f165": {
             "name": "Sunspots",
             "type": "column",
             "yAxis": 0
            },
            "column_7d4ac02f166": {
             "name": "Births",
             "type": "column",
             "yAxis": 0
            }
           },
           "showDataLabels": false,
           "sizemode": "diameter",
           "sortX": true,
           "sortY": true,
           "swappedAxes": false,
           "textFormat": "",
           "useAggregationsUi": true,
           "valuesOptions": {},
           "version": 2,
           "xAxis": {
            "labels": {
             "enabled": true
            },
            "type": "-"
           },
           "yAxis": [
            {
             "type": "-"
            },
            {
             "opposite": true,
             "type": "-"
            }
           ]
          }
         }
        ]
       },
       "datasetPreviewNameToCmdIdMap": {},
       "diffDeletes": [],
       "diffInserts": [],
       "displayType": "redashChart",
       "error": null,
       "errorSummary": null,
       "errorTraceType": null,
       "finishTime": 0,
       "globalVars": {},
       "guid": "",
       "height": "auto",
       "hideCommandCode": false,
       "hideCommandResult": false,
       "iPythonMetadata": null,
       "inputWidgets": {},
       "isLockedInExamMode": false,
       "latestUser": "a user",
       "latestUserId": null,
       "listResultMetadata": null,
       "metadata": {
        "byteLimit": 2048000,
        "rowLimit": 10000
       },
       "nuid": "d0ddf008-4dcc-4c38-bbcc-0201d4644299",
       "origId": 0,
       "parentHierarchy": [],
       "pivotAggregation": null,
       "pivotColumns": null,
       "position": 8.0,
       "resultDbfsErrorMessage": null,
       "resultDbfsStatus": "INLINED_IN_TREE",
       "results": null,
       "showCommandTitle": false,
       "startTime": 0,
       "state": "input",
       "streamStates": {},
       "subcommandOptions": {
        "queryPlan": {
         "groups": [
          {
           "column": "Date",
           "type": "column"
          }
         ],
         "selects": [
          {
           "alias": "column_7d4ac02f165",
           "args": [
            {
             "column": "Sunspots",
             "type": "column"
            }
           ],
           "function": "SUM",
           "type": "function"
          },
          {
           "alias": "column_7d4ac02f166",
           "args": [
            {
             "column": "Births",
             "type": "column"
            }
           ],
           "function": "SUM",
           "type": "function"
          },
          {
           "column": "Date",
           "type": "column"
          }
         ]
        }
       },
       "submitTime": 0,
       "subtype": "tableResultSubCmd.visualization",
       "tableResultIndex": 0,
       "useConsistentColors": false,
       "version": "CommandV1",
       "width": "auto",
       "workflows": [],
       "xColumns": null,
       "yColumns": null
      }
     },
     "output_type": "display_data"
    }
   ],
   "source": [
    "# now we need to add the two datasets together but one is datewies and one monthwise\n",
    "# we could use a join or we could add compatible columns and union\n",
    "\n",
    "births_df_compatible = births_df.withColumn(\n",
    "  'Date', fn.to_date('Date', 'yyyy-MM-dd')\n",
    ").withColumn(\n",
    "  'Sunspots' , fn.lit(None).cast(T.LongType())\n",
    ").select(\n",
    "  'Date',\n",
    "  'Sunspots',\n",
    "  'Births',\n",
    ")\n",
    "\n",
    "sunspots_df_compatible = sunspots_df.withColumn(\n",
    "  'Date', fn.to_date('Month', 'yyyy-MM')\n",
    ").withColumn(\n",
    "   'Births' , fn.lit(None).cast(T.DoubleType())\n",
    ").select(\n",
    "  'Date',\n",
    "  'Sunspots',\n",
    "  'Births',\n",
    ").filter(\n",
    "  fn.year('Date') == 1959\n",
    ")\n",
    "\n",
    "unioned_df = sunspots_df_compatible.union(births_df_compatible)\n",
    "\n",
    "display(unioned_df)"
   ]
  },
  {
   "cell_type": "code",
   "execution_count": 0,
   "metadata": {
    "application/vnd.databricks.v1+cell": {
     "cellMetadata": {
      "byteLimit": 2048000,
      "rowLimit": 10000
     },
     "inputWidgets": {},
     "nuid": "ae9b8371-4efe-46cc-941a-faa81d244be9",
     "showTitle": false,
     "title": ""
    }
   },
   "outputs": [
    {
     "output_type": "display_data",
     "data": {
      "text/html": [
       "<style scoped>\n",
       "  .table-result-container {\n",
       "    max-height: 300px;\n",
       "    overflow: auto;\n",
       "  }\n",
       "  table, th, td {\n",
       "    border: 1px solid black;\n",
       "    border-collapse: collapse;\n",
       "  }\n",
       "  th, td {\n",
       "    padding: 5px;\n",
       "  }\n",
       "  th {\n",
       "    text-align: left;\n",
       "  }\n",
       "</style><div class='table-result-container'><table class='table-result'><thead style='background-color: white'><tr><th>Month</th><th>Births</th><th>Sunspots</th></tr></thead><tbody><tr><td>1</td><td>1213.0</td><td>217.4</td></tr><tr><td>2</td><td>1148.0</td><td>143.1</td></tr><tr><td>3</td><td>1218.0</td><td>185.7</td></tr><tr><td>4</td><td>1195.0</td><td>163.3</td></tr><tr><td>5</td><td>1208.0</td><td>172.0</td></tr><tr><td>6</td><td>1212.0</td><td>168.7</td></tr><tr><td>7</td><td>1300.0</td><td>149.6</td></tr><tr><td>8</td><td>1351.0</td><td>199.6</td></tr><tr><td>9</td><td>1446.0</td><td>145.2</td></tr><tr><td>10</td><td>1368.0</td><td>111.4</td></tr><tr><td>11</td><td>1350.0</td><td>124.0</td></tr><tr><td>12</td><td>1314.0</td><td>125.0</td></tr></tbody></table></div>"
      ]
     },
     "metadata": {
      "application/vnd.databricks.v1+output": {
       "addedWidgets": {},
       "aggData": [],
       "aggError": "",
       "aggOverflow": false,
       "aggSchema": [],
       "aggSeriesLimitReached": false,
       "aggType": "",
       "arguments": {},
       "columnCustomDisplayInfos": {},
       "data": [
        [
         1,
         1213.0,
         217.4
        ],
        [
         2,
         1148.0,
         143.1
        ],
        [
         3,
         1218.0,
         185.7
        ],
        [
         4,
         1195.0,
         163.3
        ],
        [
         5,
         1208.0,
         172.0
        ],
        [
         6,
         1212.0,
         168.7
        ],
        [
         7,
         1300.0,
         149.6
        ],
        [
         8,
         1351.0,
         199.6
        ],
        [
         9,
         1446.0,
         145.2
        ],
        [
         10,
         1368.0,
         111.4
        ],
        [
         11,
         1350.0,
         124.0
        ],
        [
         12,
         1314.0,
         125.0
        ]
       ],
       "datasetInfos": [],
       "dbfsResultPath": null,
       "isJsonSchema": true,
       "metadata": {},
       "overflow": false,
       "plotOptions": {
        "customPlotOptions": {},
        "displayType": "table",
        "pivotAggregation": null,
        "pivotColumns": null,
        "xColumns": null,
        "yColumns": null
       },
       "removedWidgets": [],
       "schema": [
        {
         "metadata": "{}",
         "name": "Month",
         "type": "\"integer\""
        },
        {
         "metadata": "{}",
         "name": "Births",
         "type": "\"double\""
        },
        {
         "metadata": "{}",
         "name": "Sunspots",
         "type": "\"double\""
        }
       ],
       "type": "table"
      }
     },
     "output_type": "display_data"
    },
    {
     "output_type": "display_data",
     "data": {
      "text/plain": [
       "Databricks visualization. Run in Databricks to view."
      ]
     },
     "metadata": {
      "application/vnd.databricks.v1.subcommand+json": {
       "bindings": {},
       "collapsed": false,
       "command": "%python\n__backend_agg_display_orig = display\n__backend_agg_dfs = []\ndef __backend_agg_display_new(df):\n    __backend_agg_df_modules = [\"pandas.core.frame\", \"databricks.koalas.frame\", \"pyspark.sql.dataframe\", \"pyspark.pandas.frame\", \"pyspark.sql.connect.dataframe\"]\n    if (type(df).__module__ in __backend_agg_df_modules and type(df).__name__ == 'DataFrame') or isinstance(df, list):\n        __backend_agg_dfs.append(df)\n\ndisplay = __backend_agg_display_new\n\ndef __backend_agg_user_code_fn():\n    import base64\n    exec(base64.standard_b64decode(\"Z3JvdXBlZF9kZiA9IHVuaW9uZWRfZGYuZ3JvdXBCeSgKICBmbi5tb250aCgnRGF0ZScpLmFsaWFzKCdNb250aCcpCikuYWdnKAogIGZuLnN1bSgnQmlydGhzJykuYWxpYXMoJ0JpcnRocycpLAogIGZuLnN1bSgnU3Vuc3BvdHMnKS5hbGlhcygnU3Vuc3BvdHMnKSwKKS5vcmRlckJ5KAogICdNb250aCcKKQoKZGlzcGxheShncm91cGVkX2RmKQ==\").decode())\n\ntry:\n    # run user code\n    __backend_agg_user_code_fn()\n\n    #reset display function\n    display = __backend_agg_display_orig\n\n    if len(__backend_agg_dfs) > 0:\n        # create a temp view\n        if type(__backend_agg_dfs[0]).__module__ == \"databricks.koalas.frame\":\n            # koalas dataframe\n            __backend_agg_dfs[0].to_spark().createOrReplaceTempView(\"DatabricksView316a4f1\")\n        elif type(__backend_agg_dfs[0]).__module__ == \"pandas.core.frame\" or isinstance(__backend_agg_dfs[0], list):\n            # pandas dataframe\n            spark.createDataFrame(__backend_agg_dfs[0]).createOrReplaceTempView(\"DatabricksView316a4f1\")\n        else:\n            __backend_agg_dfs[0].createOrReplaceTempView(\"DatabricksView316a4f1\")\n        #run backend agg\n        display(spark.sql(\"\"\"WITH q AS (select * from DatabricksView316a4f1) SELECT `Month`,SUM(`Births`) `column_7d4ac02f132`,SUM(`Sunspots`) `column_7d4ac02f134` FROM q GROUP BY `Month`\"\"\"))\n    else:\n        displayHTML(\"dataframe no longer exists. If you're using dataframe.display(), use display(dataframe) instead.\")\n\n\nfinally:\n    spark.sql(\"drop view if exists DatabricksView316a4f1\")\n    display = __backend_agg_display_orig\n    del __backend_agg_display_new\n    del __backend_agg_display_orig\n    del __backend_agg_dfs\n    del __backend_agg_user_code_fn\n\n",
       "commandTitle": "Visualization 1",
       "commandType": "auto",
       "commandVersion": 0,
       "commentThread": [],
       "commentsVisible": false,
       "contentSha256Hex": null,
       "customPlotOptions": {
        "redashChart": [
         {
          "key": "type",
          "value": "CHART"
         },
         {
          "key": "options",
          "value": {
           "alignYAxesAtZero": true,
           "coefficient": 1,
           "columnConfigurationMap": {
            "x": {
             "column": "Month",
             "id": "column_7d4ac02f130"
            },
            "y": [
             {
              "column": "Births",
              "id": "column_7d4ac02f132",
              "transform": "SUM"
             },
             {
              "column": "Sunspots",
              "id": "column_7d4ac02f134",
              "transform": "SUM"
             }
            ]
           },
           "dateTimeFormat": "DD/MM/YYYY HH:mm",
           "direction": {
            "type": "counterclockwise"
           },
           "error_y": {
            "type": "data",
            "visible": true
           },
           "globalSeriesType": "column",
           "isAggregationOn": true,
           "legend": {
            "traceorder": "normal"
           },
           "missingValuesAsZero": true,
           "numberFormat": "0,0[.]00000",
           "percentFormat": "0[.]00%",
           "series": {
            "error_y": {
             "type": "data",
             "visible": true
            },
            "stacking": null
           },
           "seriesOptions": {
            "column_7d4ac02f132": {
             "type": "column",
             "yAxis": 0
            },
            "column_7d4ac02f134": {
             "type": "column",
             "yAxis": 0
            }
           },
           "showDataLabels": false,
           "sizemode": "diameter",
           "sortX": true,
           "sortY": true,
           "swappedAxes": false,
           "textFormat": "",
           "useAggregationsUi": true,
           "valuesOptions": {},
           "version": 2,
           "xAxis": {
            "labels": {
             "enabled": true
            },
            "type": "-"
           },
           "yAxis": [
            {
             "type": "-"
            },
            {
             "opposite": true,
             "type": "-"
            }
           ]
          }
         }
        ]
       },
       "datasetPreviewNameToCmdIdMap": {},
       "diffDeletes": [],
       "diffInserts": [],
       "displayType": "redashChart",
       "error": null,
       "errorSummary": null,
       "errorTraceType": null,
       "finishTime": 0,
       "globalVars": {},
       "guid": "",
       "height": "auto",
       "hideCommandCode": false,
       "hideCommandResult": false,
       "iPythonMetadata": null,
       "inputWidgets": {},
       "isLockedInExamMode": false,
       "latestUser": "a user",
       "latestUserId": null,
       "listResultMetadata": null,
       "metadata": {
        "byteLimit": 2048000,
        "rowLimit": 10000
       },
       "nuid": "5b6e49e2-832f-43f6-976f-d6f5aea3fa71",
       "origId": 0,
       "parentHierarchy": [],
       "pivotAggregation": null,
       "pivotColumns": null,
       "position": 8.0,
       "resultDbfsErrorMessage": null,
       "resultDbfsStatus": "INLINED_IN_TREE",
       "results": null,
       "showCommandTitle": false,
       "startTime": 0,
       "state": "input",
       "streamStates": {},
       "subcommandOptions": {
        "queryPlan": {
         "groups": [
          {
           "column": "Month",
           "type": "column"
          }
         ],
         "selects": [
          {
           "column": "Month",
           "type": "column"
          },
          {
           "alias": "column_7d4ac02f132",
           "args": [
            {
             "column": "Births",
             "type": "column"
            }
           ],
           "function": "SUM",
           "type": "function"
          },
          {
           "alias": "column_7d4ac02f134",
           "args": [
            {
             "column": "Sunspots",
             "type": "column"
            }
           ],
           "function": "SUM",
           "type": "function"
          }
         ]
        }
       },
       "submitTime": 0,
       "subtype": "tableResultSubCmd.visualization",
       "tableResultIndex": 0,
       "useConsistentColors": false,
       "version": "CommandV1",
       "width": "auto",
       "workflows": [],
       "xColumns": null,
       "yColumns": null
      }
     },
     "output_type": "display_data"
    },
    {
     "output_type": "display_data",
     "data": {
      "text/plain": [
       "Databricks visualization. Run in Databricks to view."
      ]
     },
     "metadata": {
      "application/vnd.databricks.v1.subcommand+json": {
       "bindings": {},
       "collapsed": false,
       "command": "%python\n__backend_agg_display_orig = display\n__backend_agg_dfs = []\ndef __backend_agg_display_new(df):\n    __backend_agg_df_modules = [\"pandas.core.frame\", \"databricks.koalas.frame\", \"pyspark.sql.dataframe\", \"pyspark.pandas.frame\", \"pyspark.sql.connect.dataframe\"]\n    if (type(df).__module__ in __backend_agg_df_modules and type(df).__name__ == 'DataFrame') or isinstance(df, list):\n        __backend_agg_dfs.append(df)\n\ndisplay = __backend_agg_display_new\n\ndef __backend_agg_user_code_fn():\n    import base64\n    exec(base64.standard_b64decode(\"Z3JvdXBlZF9kZiA9IHVuaW9uZWRfZGYuZ3JvdXBCeSgKICBmbi5tb250aCgnRGF0ZScpLmFsaWFzKCdNb250aCcpCikuYWdnKAogIGZuLnN1bSgnQmlydGhzJykuYWxpYXMoJ0JpcnRocycpLAogIGZuLnN1bSgnU3Vuc3BvdHMnKS5hbGlhcygnU3Vuc3BvdHMnKSwKKS5vcmRlckJ5KAogICdNb250aCcKKQoKZGlzcGxheShncm91cGVkX2RmKQ==\").decode())\n\ntry:\n    # run user code\n    __backend_agg_user_code_fn()\n\n    #reset display function\n    display = __backend_agg_display_orig\n\n    if len(__backend_agg_dfs) > 0:\n        # create a temp view\n        if type(__backend_agg_dfs[0]).__module__ == \"databricks.koalas.frame\":\n            # koalas dataframe\n            __backend_agg_dfs[0].to_spark().createOrReplaceTempView(\"DatabricksView3f7c9e7\")\n        elif type(__backend_agg_dfs[0]).__module__ == \"pandas.core.frame\" or isinstance(__backend_agg_dfs[0], list):\n            # pandas dataframe\n            spark.createDataFrame(__backend_agg_dfs[0]).createOrReplaceTempView(\"DatabricksView3f7c9e7\")\n        else:\n            __backend_agg_dfs[0].createOrReplaceTempView(\"DatabricksView3f7c9e7\")\n        #run backend agg\n        display(spark.sql(\"\"\"WITH q AS (select * from DatabricksView3f7c9e7) SELECT `Month`,SUM(`Births`) `column_7d4ac02f132`,SUM(`Sunspots`) `column_7d4ac02f134` FROM q GROUP BY `Month`\"\"\"))\n    else:\n        displayHTML(\"dataframe no longer exists. If you're using dataframe.display(), use display(dataframe) instead.\")\n\n\nfinally:\n    spark.sql(\"drop view if exists DatabricksView3f7c9e7\")\n    display = __backend_agg_display_orig\n    del __backend_agg_display_new\n    del __backend_agg_display_orig\n    del __backend_agg_dfs\n    del __backend_agg_user_code_fn\n\n",
       "commandTitle": "Visualization 1 - Duplicate",
       "commandType": "auto",
       "commandVersion": 0,
       "commentThread": [],
       "commentsVisible": false,
       "contentSha256Hex": null,
       "customPlotOptions": {
        "redashChart": [
         {
          "key": "type",
          "value": "CHART"
         },
         {
          "key": "options",
          "value": {
           "alignYAxesAtZero": true,
           "coefficient": 1,
           "columnConfigurationMap": {
            "x": {
             "column": "Month",
             "id": "column_7d4ac02f130"
            },
            "y": [
             {
              "column": "Births",
              "id": "column_7d4ac02f132",
              "transform": "SUM"
             },
             {
              "column": "Sunspots",
              "id": "column_7d4ac02f134",
              "transform": "SUM"
             }
            ]
           },
           "dateTimeFormat": "DD/MM/YYYY HH:mm",
           "direction": {
            "type": "counterclockwise"
           },
           "error_y": {
            "type": "data",
            "visible": true
           },
           "globalSeriesType": "column",
           "isAggregationOn": true,
           "legend": {
            "traceorder": "normal"
           },
           "missingValuesAsZero": true,
           "numberFormat": "0,0[.]00000",
           "percentFormat": "0[.]00%",
           "series": {
            "error_y": {
             "type": "data",
             "visible": true
            },
            "stacking": null
           },
           "seriesOptions": {
            "column_7d4ac02f132": {
             "type": "column",
             "yAxis": 0
            },
            "column_7d4ac02f134": {
             "type": "column",
             "yAxis": 1
            }
           },
           "showDataLabels": false,
           "sizemode": "diameter",
           "sortX": true,
           "sortY": true,
           "swappedAxes": false,
           "textFormat": "",
           "useAggregationsUi": true,
           "valuesOptions": {},
           "version": 2,
           "xAxis": {
            "labels": {
             "enabled": true
            },
            "type": "-"
           },
           "yAxis": [
            {
             "type": "-"
            },
            {
             "opposite": true,
             "type": "-"
            }
           ]
          }
         }
        ]
       },
       "datasetPreviewNameToCmdIdMap": {},
       "diffDeletes": [],
       "diffInserts": [],
       "displayType": "redashChart",
       "error": null,
       "errorSummary": null,
       "errorTraceType": null,
       "finishTime": 0,
       "globalVars": {},
       "guid": "",
       "height": "auto",
       "hideCommandCode": false,
       "hideCommandResult": false,
       "iPythonMetadata": null,
       "inputWidgets": {},
       "isLockedInExamMode": false,
       "latestUser": "a user",
       "latestUserId": null,
       "listResultMetadata": null,
       "metadata": {
        "byteLimit": 2048000,
        "rowLimit": 10000
       },
       "nuid": "a573402d-76c9-4e11-8b1c-743528d28dae",
       "origId": 0,
       "parentHierarchy": [],
       "pivotAggregation": null,
       "pivotColumns": null,
       "position": 9.0,
       "resultDbfsErrorMessage": null,
       "resultDbfsStatus": "INLINED_IN_TREE",
       "results": null,
       "showCommandTitle": false,
       "startTime": 0,
       "state": "input",
       "streamStates": {},
       "subcommandOptions": {
        "queryPlan": {
         "groups": [
          {
           "column": "Month",
           "type": "column"
          }
         ],
         "selects": [
          {
           "column": "Month",
           "type": "column"
          },
          {
           "alias": "column_7d4ac02f132",
           "args": [
            {
             "column": "Births",
             "type": "column"
            }
           ],
           "function": "SUM",
           "type": "function"
          },
          {
           "alias": "column_7d4ac02f134",
           "args": [
            {
             "column": "Sunspots",
             "type": "column"
            }
           ],
           "function": "SUM",
           "type": "function"
          }
         ]
        }
       },
       "submitTime": 0,
       "subtype": "tableResultSubCmd.visualization",
       "tableResultIndex": 0,
       "useConsistentColors": false,
       "version": "CommandV1",
       "width": "auto",
       "workflows": [],
       "xColumns": null,
       "yColumns": null
      }
     },
     "output_type": "display_data"
    }
   ],
   "source": [
    "grouped_df = unioned_df.groupBy(\n",
    "  fn.month('Date').alias('Month')\n",
    ").agg(\n",
    "  fn.sum('Births').alias('Births'),\n",
    "  fn.sum('Sunspots').alias('Sunspots'),\n",
    ").orderBy(\n",
    "  'Month'\n",
    ")\n",
    "\n",
    "display(grouped_df)"
   ]
  },
  {
   "cell_type": "code",
   "execution_count": 0,
   "metadata": {
    "application/vnd.databricks.v1+cell": {
     "cellMetadata": {
      "byteLimit": 2048000,
      "rowLimit": 10000
     },
     "inputWidgets": {},
     "nuid": "9f08bf58-acbb-4231-a9a4-6e28a12674ee",
     "showTitle": false,
     "title": ""
    }
   },
   "outputs": [
    {
     "output_type": "display_data",
     "data": {
      "text/html": [
       "<style scoped>\n",
       "  .table-result-container {\n",
       "    max-height: 300px;\n",
       "    overflow: auto;\n",
       "  }\n",
       "  table, th, td {\n",
       "    border: 1px solid black;\n",
       "    border-collapse: collapse;\n",
       "  }\n",
       "  th, td {\n",
       "    padding: 5px;\n",
       "  }\n",
       "  th {\n",
       "    text-align: left;\n",
       "  }\n",
       "</style><div class='table-result-container'><table class='table-result'><thead style='background-color: white'><tr><th>Date</th><th>Sunspots</th><th>Date</th><th>Births</th></tr></thead><tbody><tr><td>1959-01-01</td><td>217.4</td><td>1959-01-01</td><td>35</td></tr><tr><td>null</td><td>null</td><td>1959-01-02</td><td>32</td></tr><tr><td>null</td><td>null</td><td>1959-01-03</td><td>30</td></tr><tr><td>null</td><td>null</td><td>1959-01-04</td><td>31</td></tr><tr><td>null</td><td>null</td><td>1959-01-05</td><td>44</td></tr><tr><td>null</td><td>null</td><td>1959-01-06</td><td>29</td></tr><tr><td>null</td><td>null</td><td>1959-01-07</td><td>45</td></tr><tr><td>null</td><td>null</td><td>1959-01-08</td><td>43</td></tr><tr><td>null</td><td>null</td><td>1959-01-09</td><td>38</td></tr><tr><td>null</td><td>null</td><td>1959-01-10</td><td>27</td></tr><tr><td>null</td><td>null</td><td>1959-01-11</td><td>38</td></tr><tr><td>null</td><td>null</td><td>1959-01-12</td><td>33</td></tr><tr><td>null</td><td>null</td><td>1959-01-13</td><td>55</td></tr><tr><td>null</td><td>null</td><td>1959-01-14</td><td>47</td></tr><tr><td>null</td><td>null</td><td>1959-01-15</td><td>45</td></tr><tr><td>null</td><td>null</td><td>1959-01-16</td><td>37</td></tr><tr><td>null</td><td>null</td><td>1959-01-17</td><td>50</td></tr><tr><td>null</td><td>null</td><td>1959-01-18</td><td>43</td></tr><tr><td>null</td><td>null</td><td>1959-01-19</td><td>41</td></tr><tr><td>null</td><td>null</td><td>1959-01-20</td><td>52</td></tr><tr><td>null</td><td>null</td><td>1959-01-21</td><td>34</td></tr><tr><td>null</td><td>null</td><td>1959-01-22</td><td>53</td></tr><tr><td>null</td><td>null</td><td>1959-01-23</td><td>39</td></tr><tr><td>null</td><td>null</td><td>1959-01-24</td><td>32</td></tr><tr><td>null</td><td>null</td><td>1959-01-25</td><td>37</td></tr><tr><td>null</td><td>null</td><td>1959-01-26</td><td>43</td></tr><tr><td>null</td><td>null</td><td>1959-01-27</td><td>39</td></tr><tr><td>null</td><td>null</td><td>1959-01-28</td><td>35</td></tr><tr><td>null</td><td>null</td><td>1959-01-29</td><td>44</td></tr><tr><td>null</td><td>null</td><td>1959-01-30</td><td>38</td></tr><tr><td>null</td><td>null</td><td>1959-01-31</td><td>24</td></tr><tr><td>1959-02-01</td><td>143.1</td><td>1959-02-01</td><td>23</td></tr><tr><td>null</td><td>null</td><td>1959-02-02</td><td>31</td></tr><tr><td>null</td><td>null</td><td>1959-02-03</td><td>44</td></tr><tr><td>null</td><td>null</td><td>1959-02-04</td><td>38</td></tr><tr><td>null</td><td>null</td><td>1959-02-05</td><td>50</td></tr><tr><td>null</td><td>null</td><td>1959-02-06</td><td>38</td></tr><tr><td>null</td><td>null</td><td>1959-02-07</td><td>51</td></tr><tr><td>null</td><td>null</td><td>1959-02-08</td><td>31</td></tr><tr><td>null</td><td>null</td><td>1959-02-09</td><td>31</td></tr><tr><td>null</td><td>null</td><td>1959-02-10</td><td>51</td></tr><tr><td>null</td><td>null</td><td>1959-02-11</td><td>36</td></tr><tr><td>null</td><td>null</td><td>1959-02-12</td><td>45</td></tr><tr><td>null</td><td>null</td><td>1959-02-13</td><td>51</td></tr><tr><td>null</td><td>null</td><td>1959-02-14</td><td>34</td></tr><tr><td>null</td><td>null</td><td>1959-02-15</td><td>52</td></tr><tr><td>null</td><td>null</td><td>1959-02-16</td><td>47</td></tr><tr><td>null</td><td>null</td><td>1959-02-17</td><td>45</td></tr><tr><td>null</td><td>null</td><td>1959-02-18</td><td>46</td></tr><tr><td>null</td><td>null</td><td>1959-02-19</td><td>39</td></tr><tr><td>null</td><td>null</td><td>1959-02-20</td><td>48</td></tr><tr><td>null</td><td>null</td><td>1959-02-21</td><td>37</td></tr><tr><td>null</td><td>null</td><td>1959-02-22</td><td>35</td></tr><tr><td>null</td><td>null</td><td>1959-02-23</td><td>52</td></tr><tr><td>null</td><td>null</td><td>1959-02-24</td><td>42</td></tr><tr><td>null</td><td>null</td><td>1959-02-25</td><td>45</td></tr><tr><td>null</td><td>null</td><td>1959-02-26</td><td>39</td></tr><tr><td>null</td><td>null</td><td>1959-02-27</td><td>37</td></tr><tr><td>null</td><td>null</td><td>1959-02-28</td><td>30</td></tr><tr><td>1959-03-01</td><td>185.7</td><td>1959-03-01</td><td>35</td></tr><tr><td>null</td><td>null</td><td>1959-03-02</td><td>28</td></tr><tr><td>null</td><td>null</td><td>1959-03-03</td><td>45</td></tr><tr><td>null</td><td>null</td><td>1959-03-04</td><td>34</td></tr><tr><td>null</td><td>null</td><td>1959-03-05</td><td>36</td></tr><tr><td>null</td><td>null</td><td>1959-03-06</td><td>50</td></tr><tr><td>null</td><td>null</td><td>1959-03-07</td><td>44</td></tr><tr><td>null</td><td>null</td><td>1959-03-08</td><td>39</td></tr><tr><td>null</td><td>null</td><td>1959-03-09</td><td>32</td></tr><tr><td>null</td><td>null</td><td>1959-03-10</td><td>39</td></tr><tr><td>null</td><td>null</td><td>1959-03-11</td><td>45</td></tr><tr><td>null</td><td>null</td><td>1959-03-12</td><td>43</td></tr><tr><td>null</td><td>null</td><td>1959-03-13</td><td>39</td></tr><tr><td>null</td><td>null</td><td>1959-03-14</td><td>31</td></tr><tr><td>null</td><td>null</td><td>1959-03-15</td><td>27</td></tr><tr><td>null</td><td>null</td><td>1959-03-16</td><td>30</td></tr><tr><td>null</td><td>null</td><td>1959-03-17</td><td>42</td></tr><tr><td>null</td><td>null</td><td>1959-03-18</td><td>46</td></tr><tr><td>null</td><td>null</td><td>1959-03-19</td><td>41</td></tr><tr><td>null</td><td>null</td><td>1959-03-20</td><td>36</td></tr><tr><td>null</td><td>null</td><td>1959-03-21</td><td>45</td></tr><tr><td>null</td><td>null</td><td>1959-03-22</td><td>46</td></tr><tr><td>null</td><td>null</td><td>1959-03-23</td><td>43</td></tr><tr><td>null</td><td>null</td><td>1959-03-24</td><td>38</td></tr><tr><td>null</td><td>null</td><td>1959-03-25</td><td>34</td></tr><tr><td>null</td><td>null</td><td>1959-03-26</td><td>35</td></tr><tr><td>null</td><td>null</td><td>1959-03-27</td><td>56</td></tr><tr><td>null</td><td>null</td><td>1959-03-28</td><td>36</td></tr><tr><td>null</td><td>null</td><td>1959-03-29</td><td>32</td></tr><tr><td>null</td><td>null</td><td>1959-03-30</td><td>50</td></tr><tr><td>null</td><td>null</td><td>1959-03-31</td><td>41</td></tr><tr><td>1959-04-01</td><td>163.3</td><td>1959-04-01</td><td>39</td></tr><tr><td>null</td><td>null</td><td>1959-04-02</td><td>41</td></tr><tr><td>null</td><td>null</td><td>1959-04-03</td><td>47</td></tr><tr><td>null</td><td>null</td><td>1959-04-04</td><td>34</td></tr><tr><td>null</td><td>null</td><td>1959-04-05</td><td>36</td></tr><tr><td>null</td><td>null</td><td>1959-04-06</td><td>33</td></tr><tr><td>null</td><td>null</td><td>1959-04-07</td><td>35</td></tr><tr><td>null</td><td>null</td><td>1959-04-08</td><td>38</td></tr><tr><td>null</td><td>null</td><td>1959-04-09</td><td>38</td></tr><tr><td>null</td><td>null</td><td>1959-04-10</td><td>34</td></tr><tr><td>null</td><td>null</td><td>1959-04-11</td><td>53</td></tr><tr><td>null</td><td>null</td><td>1959-04-12</td><td>34</td></tr><tr><td>null</td><td>null</td><td>1959-04-13</td><td>34</td></tr><tr><td>null</td><td>null</td><td>1959-04-14</td><td>38</td></tr><tr><td>null</td><td>null</td><td>1959-04-15</td><td>35</td></tr><tr><td>null</td><td>null</td><td>1959-04-16</td><td>32</td></tr><tr><td>null</td><td>null</td><td>1959-04-17</td><td>42</td></tr><tr><td>null</td><td>null</td><td>1959-04-18</td><td>34</td></tr><tr><td>null</td><td>null</td><td>1959-04-19</td><td>46</td></tr><tr><td>null</td><td>null</td><td>1959-04-20</td><td>30</td></tr><tr><td>null</td><td>null</td><td>1959-04-21</td><td>46</td></tr><tr><td>null</td><td>null</td><td>1959-04-22</td><td>45</td></tr><tr><td>null</td><td>null</td><td>1959-04-23</td><td>54</td></tr><tr><td>null</td><td>null</td><td>1959-04-24</td><td>34</td></tr><tr><td>null</td><td>null</td><td>1959-04-25</td><td>37</td></tr><tr><td>null</td><td>null</td><td>1959-04-26</td><td>35</td></tr><tr><td>null</td><td>null</td><td>1959-04-27</td><td>40</td></tr><tr><td>null</td><td>null</td><td>1959-04-28</td><td>42</td></tr><tr><td>null</td><td>null</td><td>1959-04-29</td><td>58</td></tr><tr><td>null</td><td>null</td><td>1959-04-30</td><td>51</td></tr><tr><td>1959-05-01</td><td>172.0</td><td>1959-05-01</td><td>32</td></tr><tr><td>null</td><td>null</td><td>1959-05-02</td><td>35</td></tr><tr><td>null</td><td>null</td><td>1959-05-03</td><td>38</td></tr><tr><td>null</td><td>null</td><td>1959-05-04</td><td>33</td></tr><tr><td>null</td><td>null</td><td>1959-05-05</td><td>39</td></tr><tr><td>null</td><td>null</td><td>1959-05-06</td><td>47</td></tr><tr><td>null</td><td>null</td><td>1959-05-07</td><td>38</td></tr><tr><td>null</td><td>null</td><td>1959-05-08</td><td>52</td></tr><tr><td>null</td><td>null</td><td>1959-05-09</td><td>30</td></tr><tr><td>null</td><td>null</td><td>1959-05-10</td><td>34</td></tr><tr><td>null</td><td>null</td><td>1959-05-11</td><td>40</td></tr><tr><td>null</td><td>null</td><td>1959-05-12</td><td>35</td></tr><tr><td>null</td><td>null</td><td>1959-05-13</td><td>42</td></tr><tr><td>null</td><td>null</td><td>1959-05-14</td><td>41</td></tr><tr><td>null</td><td>null</td><td>1959-05-15</td><td>42</td></tr><tr><td>null</td><td>null</td><td>1959-05-16</td><td>38</td></tr><tr><td>null</td><td>null</td><td>1959-05-17</td><td>24</td></tr><tr><td>null</td><td>null</td><td>1959-05-18</td><td>34</td></tr><tr><td>null</td><td>null</td><td>1959-05-19</td><td>43</td></tr><tr><td>null</td><td>null</td><td>1959-05-20</td><td>36</td></tr><tr><td>null</td><td>null</td><td>1959-05-21</td><td>55</td></tr><tr><td>null</td><td>null</td><td>1959-05-22</td><td>41</td></tr><tr><td>null</td><td>null</td><td>1959-05-23</td><td>45</td></tr><tr><td>null</td><td>null</td><td>1959-05-24</td><td>41</td></tr><tr><td>null</td><td>null</td><td>1959-05-25</td><td>37</td></tr><tr><td>null</td><td>null</td><td>1959-05-26</td><td>43</td></tr><tr><td>null</td><td>null</td><td>1959-05-27</td><td>39</td></tr><tr><td>null</td><td>null</td><td>1959-05-28</td><td>33</td></tr><tr><td>null</td><td>null</td><td>1959-05-29</td><td>43</td></tr><tr><td>null</td><td>null</td><td>1959-05-30</td><td>40</td></tr><tr><td>null</td><td>null</td><td>1959-05-31</td><td>38</td></tr><tr><td>1959-06-01</td><td>168.7</td><td>1959-06-01</td><td>45</td></tr><tr><td>null</td><td>null</td><td>1959-06-02</td><td>46</td></tr><tr><td>null</td><td>null</td><td>1959-06-03</td><td>34</td></tr><tr><td>null</td><td>null</td><td>1959-06-04</td><td>35</td></tr><tr><td>null</td><td>null</td><td>1959-06-05</td><td>48</td></tr><tr><td>null</td><td>null</td><td>1959-06-06</td><td>51</td></tr><tr><td>null</td><td>null</td><td>1959-06-07</td><td>36</td></tr><tr><td>null</td><td>null</td><td>1959-06-08</td><td>33</td></tr><tr><td>null</td><td>null</td><td>1959-06-09</td><td>46</td></tr><tr><td>null</td><td>null</td><td>1959-06-10</td><td>42</td></tr><tr><td>null</td><td>null</td><td>1959-06-11</td><td>48</td></tr><tr><td>null</td><td>null</td><td>1959-06-12</td><td>34</td></tr><tr><td>null</td><td>null</td><td>1959-06-13</td><td>41</td></tr><tr><td>null</td><td>null</td><td>1959-06-14</td><td>35</td></tr><tr><td>null</td><td>null</td><td>1959-06-15</td><td>40</td></tr><tr><td>null</td><td>null</td><td>1959-06-16</td><td>34</td></tr><tr><td>null</td><td>null</td><td>1959-06-17</td><td>30</td></tr><tr><td>null</td><td>null</td><td>1959-06-18</td><td>36</td></tr><tr><td>null</td><td>null</td><td>1959-06-19</td><td>40</td></tr><tr><td>null</td><td>null</td><td>1959-06-20</td><td>39</td></tr><tr><td>null</td><td>null</td><td>1959-06-21</td><td>45</td></tr><tr><td>null</td><td>null</td><td>1959-06-22</td><td>38</td></tr><tr><td>null</td><td>null</td><td>1959-06-23</td><td>47</td></tr><tr><td>null</td><td>null</td><td>1959-06-24</td><td>33</td></tr><tr><td>null</td><td>null</td><td>1959-06-25</td><td>30</td></tr><tr><td>null</td><td>null</td><td>1959-06-26</td><td>42</td></tr><tr><td>null</td><td>null</td><td>1959-06-27</td><td>43</td></tr><tr><td>null</td><td>null</td><td>1959-06-28</td><td>41</td></tr><tr><td>null</td><td>null</td><td>1959-06-29</td><td>41</td></tr><tr><td>null</td><td>null</td><td>1959-06-30</td><td>59</td></tr><tr><td>1959-07-01</td><td>149.6</td><td>1959-07-01</td><td>43</td></tr><tr><td>null</td><td>null</td><td>1959-07-02</td><td>45</td></tr><tr><td>null</td><td>null</td><td>1959-07-03</td><td>38</td></tr><tr><td>null</td><td>null</td><td>1959-07-04</td><td>37</td></tr><tr><td>null</td><td>null</td><td>1959-07-05</td><td>45</td></tr><tr><td>null</td><td>null</td><td>1959-07-06</td><td>42</td></tr><tr><td>null</td><td>null</td><td>1959-07-07</td><td>57</td></tr><tr><td>null</td><td>null</td><td>1959-07-08</td><td>46</td></tr><tr><td>null</td><td>null</td><td>1959-07-09</td><td>51</td></tr><tr><td>null</td><td>null</td><td>1959-07-10</td><td>41</td></tr><tr><td>null</td><td>null</td><td>1959-07-11</td><td>47</td></tr><tr><td>null</td><td>null</td><td>1959-07-12</td><td>26</td></tr><tr><td>null</td><td>null</td><td>1959-07-13</td><td>35</td></tr><tr><td>null</td><td>null</td><td>1959-07-14</td><td>44</td></tr><tr><td>null</td><td>null</td><td>1959-07-15</td><td>41</td></tr><tr><td>null</td><td>null</td><td>1959-07-16</td><td>42</td></tr><tr><td>null</td><td>null</td><td>1959-07-17</td><td>36</td></tr><tr><td>null</td><td>null</td><td>1959-07-18</td><td>45</td></tr><tr><td>null</td><td>null</td><td>1959-07-19</td><td>45</td></tr><tr><td>null</td><td>null</td><td>1959-07-20</td><td>45</td></tr><tr><td>null</td><td>null</td><td>1959-07-21</td><td>47</td></tr><tr><td>null</td><td>null</td><td>1959-07-22</td><td>38</td></tr><tr><td>null</td><td>null</td><td>1959-07-23</td><td>42</td></tr><tr><td>null</td><td>null</td><td>1959-07-24</td><td>35</td></tr><tr><td>null</td><td>null</td><td>1959-07-25</td><td>36</td></tr><tr><td>null</td><td>null</td><td>1959-07-26</td><td>39</td></tr><tr><td>null</td><td>null</td><td>1959-07-27</td><td>45</td></tr><tr><td>null</td><td>null</td><td>1959-07-28</td><td>43</td></tr><tr><td>null</td><td>null</td><td>1959-07-29</td><td>47</td></tr><tr><td>null</td><td>null</td><td>1959-07-30</td><td>36</td></tr><tr><td>null</td><td>null</td><td>1959-07-31</td><td>41</td></tr><tr><td>1959-08-01</td><td>199.6</td><td>1959-08-01</td><td>50</td></tr><tr><td>null</td><td>null</td><td>1959-08-02</td><td>39</td></tr><tr><td>null</td><td>null</td><td>1959-08-03</td><td>41</td></tr><tr><td>null</td><td>null</td><td>1959-08-04</td><td>46</td></tr><tr><td>null</td><td>null</td><td>1959-08-05</td><td>64</td></tr><tr><td>null</td><td>null</td><td>1959-08-06</td><td>45</td></tr><tr><td>null</td><td>null</td><td>1959-08-07</td><td>34</td></tr><tr><td>null</td><td>null</td><td>1959-08-08</td><td>38</td></tr><tr><td>null</td><td>null</td><td>1959-08-09</td><td>44</td></tr><tr><td>null</td><td>null</td><td>1959-08-10</td><td>48</td></tr><tr><td>null</td><td>null</td><td>1959-08-11</td><td>46</td></tr><tr><td>null</td><td>null</td><td>1959-08-12</td><td>44</td></tr><tr><td>null</td><td>null</td><td>1959-08-13</td><td>37</td></tr><tr><td>null</td><td>null</td><td>1959-08-14</td><td>39</td></tr><tr><td>null</td><td>null</td><td>1959-08-15</td><td>44</td></tr><tr><td>null</td><td>null</td><td>1959-08-16</td><td>45</td></tr><tr><td>null</td><td>null</td><td>1959-08-17</td><td>33</td></tr><tr><td>null</td><td>null</td><td>1959-08-18</td><td>44</td></tr><tr><td>null</td><td>null</td><td>1959-08-19</td><td>38</td></tr><tr><td>null</td><td>null</td><td>1959-08-20</td><td>46</td></tr><tr><td>null</td><td>null</td><td>1959-08-21</td><td>46</td></tr><tr><td>null</td><td>null</td><td>1959-08-22</td><td>40</td></tr><tr><td>null</td><td>null</td><td>1959-08-23</td><td>39</td></tr><tr><td>null</td><td>null</td><td>1959-08-24</td><td>44</td></tr><tr><td>null</td><td>null</td><td>1959-08-25</td><td>48</td></tr><tr><td>null</td><td>null</td><td>1959-08-26</td><td>50</td></tr><tr><td>null</td><td>null</td><td>1959-08-27</td><td>41</td></tr><tr><td>null</td><td>null</td><td>1959-08-28</td><td>42</td></tr><tr><td>null</td><td>null</td><td>1959-08-29</td><td>51</td></tr><tr><td>null</td><td>null</td><td>1959-08-30</td><td>41</td></tr><tr><td>null</td><td>null</td><td>1959-08-31</td><td>44</td></tr><tr><td>1959-09-01</td><td>145.2</td><td>1959-09-01</td><td>38</td></tr><tr><td>null</td><td>null</td><td>1959-09-02</td><td>68</td></tr><tr><td>null</td><td>null</td><td>1959-09-03</td><td>40</td></tr><tr><td>null</td><td>null</td><td>1959-09-04</td><td>42</td></tr><tr><td>null</td><td>null</td><td>1959-09-05</td><td>51</td></tr><tr><td>null</td><td>null</td><td>1959-09-06</td><td>44</td></tr><tr><td>null</td><td>null</td><td>1959-09-07</td><td>45</td></tr><tr><td>null</td><td>null</td><td>1959-09-08</td><td>36</td></tr><tr><td>null</td><td>null</td><td>1959-09-09</td><td>57</td></tr><tr><td>null</td><td>null</td><td>1959-09-10</td><td>44</td></tr><tr><td>null</td><td>null</td><td>1959-09-11</td><td>42</td></tr><tr><td>null</td><td>null</td><td>1959-09-12</td><td>53</td></tr><tr><td>null</td><td>null</td><td>1959-09-13</td><td>42</td></tr><tr><td>null</td><td>null</td><td>1959-09-14</td><td>34</td></tr><tr><td>null</td><td>null</td><td>1959-09-15</td><td>40</td></tr><tr><td>null</td><td>null</td><td>1959-09-16</td><td>56</td></tr><tr><td>null</td><td>null</td><td>1959-09-17</td><td>44</td></tr><tr><td>null</td><td>null</td><td>1959-09-18</td><td>53</td></tr><tr><td>null</td><td>null</td><td>1959-09-19</td><td>55</td></tr><tr><td>null</td><td>null</td><td>1959-09-20</td><td>39</td></tr><tr><td>null</td><td>null</td><td>1959-09-21</td><td>59</td></tr><tr><td>null</td><td>null</td><td>1959-09-22</td><td>55</td></tr><tr><td>null</td><td>null</td><td>1959-09-23</td><td>73</td></tr><tr><td>null</td><td>null</td><td>1959-09-24</td><td>55</td></tr><tr><td>null</td><td>null</td><td>1959-09-25</td><td>44</td></tr><tr><td>null</td><td>null</td><td>1959-09-26</td><td>43</td></tr><tr><td>null</td><td>null</td><td>1959-09-27</td><td>40</td></tr><tr><td>null</td><td>null</td><td>1959-09-28</td><td>47</td></tr><tr><td>null</td><td>null</td><td>1959-09-29</td><td>51</td></tr><tr><td>null</td><td>null</td><td>1959-09-30</td><td>56</td></tr><tr><td>1959-10-01</td><td>111.4</td><td>1959-10-01</td><td>49</td></tr><tr><td>null</td><td>null</td><td>1959-10-02</td><td>54</td></tr><tr><td>null</td><td>null</td><td>1959-10-03</td><td>56</td></tr><tr><td>null</td><td>null</td><td>1959-10-04</td><td>47</td></tr><tr><td>null</td><td>null</td><td>1959-10-05</td><td>44</td></tr><tr><td>null</td><td>null</td><td>1959-10-06</td><td>43</td></tr><tr><td>null</td><td>null</td><td>1959-10-07</td><td>42</td></tr><tr><td>null</td><td>null</td><td>1959-10-08</td><td>45</td></tr><tr><td>null</td><td>null</td><td>1959-10-09</td><td>50</td></tr><tr><td>null</td><td>null</td><td>1959-10-10</td><td>48</td></tr><tr><td>null</td><td>null</td><td>1959-10-11</td><td>43</td></tr><tr><td>null</td><td>null</td><td>1959-10-12</td><td>40</td></tr><tr><td>null</td><td>null</td><td>1959-10-13</td><td>59</td></tr><tr><td>null</td><td>null</td><td>1959-10-14</td><td>41</td></tr><tr><td>null</td><td>null</td><td>1959-10-15</td><td>42</td></tr><tr><td>null</td><td>null</td><td>1959-10-16</td><td>51</td></tr><tr><td>null</td><td>null</td><td>1959-10-17</td><td>49</td></tr><tr><td>null</td><td>null</td><td>1959-10-18</td><td>45</td></tr><tr><td>null</td><td>null</td><td>1959-10-19</td><td>43</td></tr><tr><td>null</td><td>null</td><td>1959-10-20</td><td>42</td></tr><tr><td>null</td><td>null</td><td>1959-10-21</td><td>38</td></tr><tr><td>null</td><td>null</td><td>1959-10-22</td><td>47</td></tr><tr><td>null</td><td>null</td><td>1959-10-23</td><td>38</td></tr><tr><td>null</td><td>null</td><td>1959-10-24</td><td>36</td></tr><tr><td>null</td><td>null</td><td>1959-10-25</td><td>42</td></tr><tr><td>null</td><td>null</td><td>1959-10-26</td><td>35</td></tr><tr><td>null</td><td>null</td><td>1959-10-27</td><td>28</td></tr><tr><td>null</td><td>null</td><td>1959-10-28</td><td>44</td></tr><tr><td>null</td><td>null</td><td>1959-10-29</td><td>36</td></tr><tr><td>null</td><td>null</td><td>1959-10-30</td><td>45</td></tr><tr><td>null</td><td>null</td><td>1959-10-31</td><td>46</td></tr><tr><td>1959-11-01</td><td>124.0</td><td>1959-11-01</td><td>48</td></tr><tr><td>null</td><td>null</td><td>1959-11-02</td><td>49</td></tr><tr><td>null</td><td>null</td><td>1959-11-03</td><td>43</td></tr><tr><td>null</td><td>null</td><td>1959-11-04</td><td>42</td></tr><tr><td>null</td><td>null</td><td>1959-11-05</td><td>59</td></tr><tr><td>null</td><td>null</td><td>1959-11-06</td><td>45</td></tr><tr><td>null</td><td>null</td><td>1959-11-07</td><td>52</td></tr><tr><td>null</td><td>null</td><td>1959-11-08</td><td>46</td></tr><tr><td>null</td><td>null</td><td>1959-11-09</td><td>42</td></tr><tr><td>null</td><td>null</td><td>1959-11-10</td><td>40</td></tr><tr><td>null</td><td>null</td><td>1959-11-11</td><td>40</td></tr><tr><td>null</td><td>null</td><td>1959-11-12</td><td>45</td></tr><tr><td>null</td><td>null</td><td>1959-11-13</td><td>35</td></tr><tr><td>null</td><td>null</td><td>1959-11-14</td><td>35</td></tr><tr><td>null</td><td>null</td><td>1959-11-15</td><td>40</td></tr><tr><td>null</td><td>null</td><td>1959-11-16</td><td>39</td></tr><tr><td>null</td><td>null</td><td>1959-11-17</td><td>33</td></tr><tr><td>null</td><td>null</td><td>1959-11-18</td><td>42</td></tr><tr><td>null</td><td>null</td><td>1959-11-19</td><td>47</td></tr><tr><td>null</td><td>null</td><td>1959-11-20</td><td>51</td></tr><tr><td>null</td><td>null</td><td>1959-11-21</td><td>44</td></tr><tr><td>null</td><td>null</td><td>1959-11-22</td><td>40</td></tr><tr><td>null</td><td>null</td><td>1959-11-23</td><td>57</td></tr><tr><td>null</td><td>null</td><td>1959-11-24</td><td>49</td></tr><tr><td>null</td><td>null</td><td>1959-11-25</td><td>45</td></tr><tr><td>null</td><td>null</td><td>1959-11-26</td><td>49</td></tr><tr><td>null</td><td>null</td><td>1959-11-27</td><td>51</td></tr><tr><td>null</td><td>null</td><td>1959-11-28</td><td>46</td></tr><tr><td>null</td><td>null</td><td>1959-11-29</td><td>44</td></tr><tr><td>null</td><td>null</td><td>1959-11-30</td><td>52</td></tr><tr><td>1959-12-01</td><td>125.0</td><td>1959-12-01</td><td>45</td></tr><tr><td>null</td><td>null</td><td>1959-12-02</td><td>32</td></tr><tr><td>null</td><td>null</td><td>1959-12-03</td><td>46</td></tr><tr><td>null</td><td>null</td><td>1959-12-04</td><td>41</td></tr><tr><td>null</td><td>null</td><td>1959-12-05</td><td>34</td></tr><tr><td>null</td><td>null</td><td>1959-12-06</td><td>33</td></tr><tr><td>null</td><td>null</td><td>1959-12-07</td><td>36</td></tr><tr><td>null</td><td>null</td><td>1959-12-08</td><td>49</td></tr><tr><td>null</td><td>null</td><td>1959-12-09</td><td>43</td></tr><tr><td>null</td><td>null</td><td>1959-12-10</td><td>43</td></tr><tr><td>null</td><td>null</td><td>1959-12-11</td><td>34</td></tr><tr><td>null</td><td>null</td><td>1959-12-12</td><td>39</td></tr><tr><td>null</td><td>null</td><td>1959-12-13</td><td>35</td></tr><tr><td>null</td><td>null</td><td>1959-12-14</td><td>52</td></tr><tr><td>null</td><td>null</td><td>1959-12-15</td><td>47</td></tr><tr><td>null</td><td>null</td><td>1959-12-16</td><td>52</td></tr><tr><td>null</td><td>null</td><td>1959-12-17</td><td>39</td></tr><tr><td>null</td><td>null</td><td>1959-12-18</td><td>40</td></tr><tr><td>null</td><td>null</td><td>1959-12-19</td><td>42</td></tr><tr><td>null</td><td>null</td><td>1959-12-20</td><td>42</td></tr><tr><td>null</td><td>null</td><td>1959-12-21</td><td>53</td></tr><tr><td>null</td><td>null</td><td>1959-12-22</td><td>39</td></tr><tr><td>null</td><td>null</td><td>1959-12-23</td><td>40</td></tr><tr><td>null</td><td>null</td><td>1959-12-24</td><td>38</td></tr><tr><td>null</td><td>null</td><td>1959-12-25</td><td>44</td></tr><tr><td>null</td><td>null</td><td>1959-12-26</td><td>34</td></tr><tr><td>null</td><td>null</td><td>1959-12-27</td><td>37</td></tr><tr><td>null</td><td>null</td><td>1959-12-28</td><td>52</td></tr><tr><td>null</td><td>null</td><td>1959-12-29</td><td>48</td></tr><tr><td>null</td><td>null</td><td>1959-12-30</td><td>55</td></tr><tr><td>null</td><td>null</td><td>1959-12-31</td><td>50</td></tr></tbody></table></div>"
      ]
     },
     "metadata": {
      "application/vnd.databricks.v1+output": {
       "addedWidgets": {},
       "aggData": [],
       "aggError": "",
       "aggOverflow": false,
       "aggSchema": [],
       "aggSeriesLimitReached": false,
       "aggType": "",
       "arguments": {},
       "columnCustomDisplayInfos": {},
       "data": [
        [
         "1959-01-01",
         217.4,
         "1959-01-01",
         35
        ],
        [
         null,
         null,
         "1959-01-02",
         32
        ],
        [
         null,
         null,
         "1959-01-03",
         30
        ],
        [
         null,
         null,
         "1959-01-04",
         31
        ],
        [
         null,
         null,
         "1959-01-05",
         44
        ],
        [
         null,
         null,
         "1959-01-06",
         29
        ],
        [
         null,
         null,
         "1959-01-07",
         45
        ],
        [
         null,
         null,
         "1959-01-08",
         43
        ],
        [
         null,
         null,
         "1959-01-09",
         38
        ],
        [
         null,
         null,
         "1959-01-10",
         27
        ],
        [
         null,
         null,
         "1959-01-11",
         38
        ],
        [
         null,
         null,
         "1959-01-12",
         33
        ],
        [
         null,
         null,
         "1959-01-13",
         55
        ],
        [
         null,
         null,
         "1959-01-14",
         47
        ],
        [
         null,
         null,
         "1959-01-15",
         45
        ],
        [
         null,
         null,
         "1959-01-16",
         37
        ],
        [
         null,
         null,
         "1959-01-17",
         50
        ],
        [
         null,
         null,
         "1959-01-18",
         43
        ],
        [
         null,
         null,
         "1959-01-19",
         41
        ],
        [
         null,
         null,
         "1959-01-20",
         52
        ],
        [
         null,
         null,
         "1959-01-21",
         34
        ],
        [
         null,
         null,
         "1959-01-22",
         53
        ],
        [
         null,
         null,
         "1959-01-23",
         39
        ],
        [
         null,
         null,
         "1959-01-24",
         32
        ],
        [
         null,
         null,
         "1959-01-25",
         37
        ],
        [
         null,
         null,
         "1959-01-26",
         43
        ],
        [
         null,
         null,
         "1959-01-27",
         39
        ],
        [
         null,
         null,
         "1959-01-28",
         35
        ],
        [
         null,
         null,
         "1959-01-29",
         44
        ],
        [
         null,
         null,
         "1959-01-30",
         38
        ],
        [
         null,
         null,
         "1959-01-31",
         24
        ],
        [
         "1959-02-01",
         143.1,
         "1959-02-01",
         23
        ],
        [
         null,
         null,
         "1959-02-02",
         31
        ],
        [
         null,
         null,
         "1959-02-03",
         44
        ],
        [
         null,
         null,
         "1959-02-04",
         38
        ],
        [
         null,
         null,
         "1959-02-05",
         50
        ],
        [
         null,
         null,
         "1959-02-06",
         38
        ],
        [
         null,
         null,
         "1959-02-07",
         51
        ],
        [
         null,
         null,
         "1959-02-08",
         31
        ],
        [
         null,
         null,
         "1959-02-09",
         31
        ],
        [
         null,
         null,
         "1959-02-10",
         51
        ],
        [
         null,
         null,
         "1959-02-11",
         36
        ],
        [
         null,
         null,
         "1959-02-12",
         45
        ],
        [
         null,
         null,
         "1959-02-13",
         51
        ],
        [
         null,
         null,
         "1959-02-14",
         34
        ],
        [
         null,
         null,
         "1959-02-15",
         52
        ],
        [
         null,
         null,
         "1959-02-16",
         47
        ],
        [
         null,
         null,
         "1959-02-17",
         45
        ],
        [
         null,
         null,
         "1959-02-18",
         46
        ],
        [
         null,
         null,
         "1959-02-19",
         39
        ],
        [
         null,
         null,
         "1959-02-20",
         48
        ],
        [
         null,
         null,
         "1959-02-21",
         37
        ],
        [
         null,
         null,
         "1959-02-22",
         35
        ],
        [
         null,
         null,
         "1959-02-23",
         52
        ],
        [
         null,
         null,
         "1959-02-24",
         42
        ],
        [
         null,
         null,
         "1959-02-25",
         45
        ],
        [
         null,
         null,
         "1959-02-26",
         39
        ],
        [
         null,
         null,
         "1959-02-27",
         37
        ],
        [
         null,
         null,
         "1959-02-28",
         30
        ],
        [
         "1959-03-01",
         185.7,
         "1959-03-01",
         35
        ],
        [
         null,
         null,
         "1959-03-02",
         28
        ],
        [
         null,
         null,
         "1959-03-03",
         45
        ],
        [
         null,
         null,
         "1959-03-04",
         34
        ],
        [
         null,
         null,
         "1959-03-05",
         36
        ],
        [
         null,
         null,
         "1959-03-06",
         50
        ],
        [
         null,
         null,
         "1959-03-07",
         44
        ],
        [
         null,
         null,
         "1959-03-08",
         39
        ],
        [
         null,
         null,
         "1959-03-09",
         32
        ],
        [
         null,
         null,
         "1959-03-10",
         39
        ],
        [
         null,
         null,
         "1959-03-11",
         45
        ],
        [
         null,
         null,
         "1959-03-12",
         43
        ],
        [
         null,
         null,
         "1959-03-13",
         39
        ],
        [
         null,
         null,
         "1959-03-14",
         31
        ],
        [
         null,
         null,
         "1959-03-15",
         27
        ],
        [
         null,
         null,
         "1959-03-16",
         30
        ],
        [
         null,
         null,
         "1959-03-17",
         42
        ],
        [
         null,
         null,
         "1959-03-18",
         46
        ],
        [
         null,
         null,
         "1959-03-19",
         41
        ],
        [
         null,
         null,
         "1959-03-20",
         36
        ],
        [
         null,
         null,
         "1959-03-21",
         45
        ],
        [
         null,
         null,
         "1959-03-22",
         46
        ],
        [
         null,
         null,
         "1959-03-23",
         43
        ],
        [
         null,
         null,
         "1959-03-24",
         38
        ],
        [
         null,
         null,
         "1959-03-25",
         34
        ],
        [
         null,
         null,
         "1959-03-26",
         35
        ],
        [
         null,
         null,
         "1959-03-27",
         56
        ],
        [
         null,
         null,
         "1959-03-28",
         36
        ],
        [
         null,
         null,
         "1959-03-29",
         32
        ],
        [
         null,
         null,
         "1959-03-30",
         50
        ],
        [
         null,
         null,
         "1959-03-31",
         41
        ],
        [
         "1959-04-01",
         163.3,
         "1959-04-01",
         39
        ],
        [
         null,
         null,
         "1959-04-02",
         41
        ],
        [
         null,
         null,
         "1959-04-03",
         47
        ],
        [
         null,
         null,
         "1959-04-04",
         34
        ],
        [
         null,
         null,
         "1959-04-05",
         36
        ],
        [
         null,
         null,
         "1959-04-06",
         33
        ],
        [
         null,
         null,
         "1959-04-07",
         35
        ],
        [
         null,
         null,
         "1959-04-08",
         38
        ],
        [
         null,
         null,
         "1959-04-09",
         38
        ],
        [
         null,
         null,
         "1959-04-10",
         34
        ],
        [
         null,
         null,
         "1959-04-11",
         53
        ],
        [
         null,
         null,
         "1959-04-12",
         34
        ],
        [
         null,
         null,
         "1959-04-13",
         34
        ],
        [
         null,
         null,
         "1959-04-14",
         38
        ],
        [
         null,
         null,
         "1959-04-15",
         35
        ],
        [
         null,
         null,
         "1959-04-16",
         32
        ],
        [
         null,
         null,
         "1959-04-17",
         42
        ],
        [
         null,
         null,
         "1959-04-18",
         34
        ],
        [
         null,
         null,
         "1959-04-19",
         46
        ],
        [
         null,
         null,
         "1959-04-20",
         30
        ],
        [
         null,
         null,
         "1959-04-21",
         46
        ],
        [
         null,
         null,
         "1959-04-22",
         45
        ],
        [
         null,
         null,
         "1959-04-23",
         54
        ],
        [
         null,
         null,
         "1959-04-24",
         34
        ],
        [
         null,
         null,
         "1959-04-25",
         37
        ],
        [
         null,
         null,
         "1959-04-26",
         35
        ],
        [
         null,
         null,
         "1959-04-27",
         40
        ],
        [
         null,
         null,
         "1959-04-28",
         42
        ],
        [
         null,
         null,
         "1959-04-29",
         58
        ],
        [
         null,
         null,
         "1959-04-30",
         51
        ],
        [
         "1959-05-01",
         172.0,
         "1959-05-01",
         32
        ],
        [
         null,
         null,
         "1959-05-02",
         35
        ],
        [
         null,
         null,
         "1959-05-03",
         38
        ],
        [
         null,
         null,
         "1959-05-04",
         33
        ],
        [
         null,
         null,
         "1959-05-05",
         39
        ],
        [
         null,
         null,
         "1959-05-06",
         47
        ],
        [
         null,
         null,
         "1959-05-07",
         38
        ],
        [
         null,
         null,
         "1959-05-08",
         52
        ],
        [
         null,
         null,
         "1959-05-09",
         30
        ],
        [
         null,
         null,
         "1959-05-10",
         34
        ],
        [
         null,
         null,
         "1959-05-11",
         40
        ],
        [
         null,
         null,
         "1959-05-12",
         35
        ],
        [
         null,
         null,
         "1959-05-13",
         42
        ],
        [
         null,
         null,
         "1959-05-14",
         41
        ],
        [
         null,
         null,
         "1959-05-15",
         42
        ],
        [
         null,
         null,
         "1959-05-16",
         38
        ],
        [
         null,
         null,
         "1959-05-17",
         24
        ],
        [
         null,
         null,
         "1959-05-18",
         34
        ],
        [
         null,
         null,
         "1959-05-19",
         43
        ],
        [
         null,
         null,
         "1959-05-20",
         36
        ],
        [
         null,
         null,
         "1959-05-21",
         55
        ],
        [
         null,
         null,
         "1959-05-22",
         41
        ],
        [
         null,
         null,
         "1959-05-23",
         45
        ],
        [
         null,
         null,
         "1959-05-24",
         41
        ],
        [
         null,
         null,
         "1959-05-25",
         37
        ],
        [
         null,
         null,
         "1959-05-26",
         43
        ],
        [
         null,
         null,
         "1959-05-27",
         39
        ],
        [
         null,
         null,
         "1959-05-28",
         33
        ],
        [
         null,
         null,
         "1959-05-29",
         43
        ],
        [
         null,
         null,
         "1959-05-30",
         40
        ],
        [
         null,
         null,
         "1959-05-31",
         38
        ],
        [
         "1959-06-01",
         168.7,
         "1959-06-01",
         45
        ],
        [
         null,
         null,
         "1959-06-02",
         46
        ],
        [
         null,
         null,
         "1959-06-03",
         34
        ],
        [
         null,
         null,
         "1959-06-04",
         35
        ],
        [
         null,
         null,
         "1959-06-05",
         48
        ],
        [
         null,
         null,
         "1959-06-06",
         51
        ],
        [
         null,
         null,
         "1959-06-07",
         36
        ],
        [
         null,
         null,
         "1959-06-08",
         33
        ],
        [
         null,
         null,
         "1959-06-09",
         46
        ],
        [
         null,
         null,
         "1959-06-10",
         42
        ],
        [
         null,
         null,
         "1959-06-11",
         48
        ],
        [
         null,
         null,
         "1959-06-12",
         34
        ],
        [
         null,
         null,
         "1959-06-13",
         41
        ],
        [
         null,
         null,
         "1959-06-14",
         35
        ],
        [
         null,
         null,
         "1959-06-15",
         40
        ],
        [
         null,
         null,
         "1959-06-16",
         34
        ],
        [
         null,
         null,
         "1959-06-17",
         30
        ],
        [
         null,
         null,
         "1959-06-18",
         36
        ],
        [
         null,
         null,
         "1959-06-19",
         40
        ],
        [
         null,
         null,
         "1959-06-20",
         39
        ],
        [
         null,
         null,
         "1959-06-21",
         45
        ],
        [
         null,
         null,
         "1959-06-22",
         38
        ],
        [
         null,
         null,
         "1959-06-23",
         47
        ],
        [
         null,
         null,
         "1959-06-24",
         33
        ],
        [
         null,
         null,
         "1959-06-25",
         30
        ],
        [
         null,
         null,
         "1959-06-26",
         42
        ],
        [
         null,
         null,
         "1959-06-27",
         43
        ],
        [
         null,
         null,
         "1959-06-28",
         41
        ],
        [
         null,
         null,
         "1959-06-29",
         41
        ],
        [
         null,
         null,
         "1959-06-30",
         59
        ],
        [
         "1959-07-01",
         149.6,
         "1959-07-01",
         43
        ],
        [
         null,
         null,
         "1959-07-02",
         45
        ],
        [
         null,
         null,
         "1959-07-03",
         38
        ],
        [
         null,
         null,
         "1959-07-04",
         37
        ],
        [
         null,
         null,
         "1959-07-05",
         45
        ],
        [
         null,
         null,
         "1959-07-06",
         42
        ],
        [
         null,
         null,
         "1959-07-07",
         57
        ],
        [
         null,
         null,
         "1959-07-08",
         46
        ],
        [
         null,
         null,
         "1959-07-09",
         51
        ],
        [
         null,
         null,
         "1959-07-10",
         41
        ],
        [
         null,
         null,
         "1959-07-11",
         47
        ],
        [
         null,
         null,
         "1959-07-12",
         26
        ],
        [
         null,
         null,
         "1959-07-13",
         35
        ],
        [
         null,
         null,
         "1959-07-14",
         44
        ],
        [
         null,
         null,
         "1959-07-15",
         41
        ],
        [
         null,
         null,
         "1959-07-16",
         42
        ],
        [
         null,
         null,
         "1959-07-17",
         36
        ],
        [
         null,
         null,
         "1959-07-18",
         45
        ],
        [
         null,
         null,
         "1959-07-19",
         45
        ],
        [
         null,
         null,
         "1959-07-20",
         45
        ],
        [
         null,
         null,
         "1959-07-21",
         47
        ],
        [
         null,
         null,
         "1959-07-22",
         38
        ],
        [
         null,
         null,
         "1959-07-23",
         42
        ],
        [
         null,
         null,
         "1959-07-24",
         35
        ],
        [
         null,
         null,
         "1959-07-25",
         36
        ],
        [
         null,
         null,
         "1959-07-26",
         39
        ],
        [
         null,
         null,
         "1959-07-27",
         45
        ],
        [
         null,
         null,
         "1959-07-28",
         43
        ],
        [
         null,
         null,
         "1959-07-29",
         47
        ],
        [
         null,
         null,
         "1959-07-30",
         36
        ],
        [
         null,
         null,
         "1959-07-31",
         41
        ],
        [
         "1959-08-01",
         199.6,
         "1959-08-01",
         50
        ],
        [
         null,
         null,
         "1959-08-02",
         39
        ],
        [
         null,
         null,
         "1959-08-03",
         41
        ],
        [
         null,
         null,
         "1959-08-04",
         46
        ],
        [
         null,
         null,
         "1959-08-05",
         64
        ],
        [
         null,
         null,
         "1959-08-06",
         45
        ],
        [
         null,
         null,
         "1959-08-07",
         34
        ],
        [
         null,
         null,
         "1959-08-08",
         38
        ],
        [
         null,
         null,
         "1959-08-09",
         44
        ],
        [
         null,
         null,
         "1959-08-10",
         48
        ],
        [
         null,
         null,
         "1959-08-11",
         46
        ],
        [
         null,
         null,
         "1959-08-12",
         44
        ],
        [
         null,
         null,
         "1959-08-13",
         37
        ],
        [
         null,
         null,
         "1959-08-14",
         39
        ],
        [
         null,
         null,
         "1959-08-15",
         44
        ],
        [
         null,
         null,
         "1959-08-16",
         45
        ],
        [
         null,
         null,
         "1959-08-17",
         33
        ],
        [
         null,
         null,
         "1959-08-18",
         44
        ],
        [
         null,
         null,
         "1959-08-19",
         38
        ],
        [
         null,
         null,
         "1959-08-20",
         46
        ],
        [
         null,
         null,
         "1959-08-21",
         46
        ],
        [
         null,
         null,
         "1959-08-22",
         40
        ],
        [
         null,
         null,
         "1959-08-23",
         39
        ],
        [
         null,
         null,
         "1959-08-24",
         44
        ],
        [
         null,
         null,
         "1959-08-25",
         48
        ],
        [
         null,
         null,
         "1959-08-26",
         50
        ],
        [
         null,
         null,
         "1959-08-27",
         41
        ],
        [
         null,
         null,
         "1959-08-28",
         42
        ],
        [
         null,
         null,
         "1959-08-29",
         51
        ],
        [
         null,
         null,
         "1959-08-30",
         41
        ],
        [
         null,
         null,
         "1959-08-31",
         44
        ],
        [
         "1959-09-01",
         145.2,
         "1959-09-01",
         38
        ],
        [
         null,
         null,
         "1959-09-02",
         68
        ],
        [
         null,
         null,
         "1959-09-03",
         40
        ],
        [
         null,
         null,
         "1959-09-04",
         42
        ],
        [
         null,
         null,
         "1959-09-05",
         51
        ],
        [
         null,
         null,
         "1959-09-06",
         44
        ],
        [
         null,
         null,
         "1959-09-07",
         45
        ],
        [
         null,
         null,
         "1959-09-08",
         36
        ],
        [
         null,
         null,
         "1959-09-09",
         57
        ],
        [
         null,
         null,
         "1959-09-10",
         44
        ],
        [
         null,
         null,
         "1959-09-11",
         42
        ],
        [
         null,
         null,
         "1959-09-12",
         53
        ],
        [
         null,
         null,
         "1959-09-13",
         42
        ],
        [
         null,
         null,
         "1959-09-14",
         34
        ],
        [
         null,
         null,
         "1959-09-15",
         40
        ],
        [
         null,
         null,
         "1959-09-16",
         56
        ],
        [
         null,
         null,
         "1959-09-17",
         44
        ],
        [
         null,
         null,
         "1959-09-18",
         53
        ],
        [
         null,
         null,
         "1959-09-19",
         55
        ],
        [
         null,
         null,
         "1959-09-20",
         39
        ],
        [
         null,
         null,
         "1959-09-21",
         59
        ],
        [
         null,
         null,
         "1959-09-22",
         55
        ],
        [
         null,
         null,
         "1959-09-23",
         73
        ],
        [
         null,
         null,
         "1959-09-24",
         55
        ],
        [
         null,
         null,
         "1959-09-25",
         44
        ],
        [
         null,
         null,
         "1959-09-26",
         43
        ],
        [
         null,
         null,
         "1959-09-27",
         40
        ],
        [
         null,
         null,
         "1959-09-28",
         47
        ],
        [
         null,
         null,
         "1959-09-29",
         51
        ],
        [
         null,
         null,
         "1959-09-30",
         56
        ],
        [
         "1959-10-01",
         111.4,
         "1959-10-01",
         49
        ],
        [
         null,
         null,
         "1959-10-02",
         54
        ],
        [
         null,
         null,
         "1959-10-03",
         56
        ],
        [
         null,
         null,
         "1959-10-04",
         47
        ],
        [
         null,
         null,
         "1959-10-05",
         44
        ],
        [
         null,
         null,
         "1959-10-06",
         43
        ],
        [
         null,
         null,
         "1959-10-07",
         42
        ],
        [
         null,
         null,
         "1959-10-08",
         45
        ],
        [
         null,
         null,
         "1959-10-09",
         50
        ],
        [
         null,
         null,
         "1959-10-10",
         48
        ],
        [
         null,
         null,
         "1959-10-11",
         43
        ],
        [
         null,
         null,
         "1959-10-12",
         40
        ],
        [
         null,
         null,
         "1959-10-13",
         59
        ],
        [
         null,
         null,
         "1959-10-14",
         41
        ],
        [
         null,
         null,
         "1959-10-15",
         42
        ],
        [
         null,
         null,
         "1959-10-16",
         51
        ],
        [
         null,
         null,
         "1959-10-17",
         49
        ],
        [
         null,
         null,
         "1959-10-18",
         45
        ],
        [
         null,
         null,
         "1959-10-19",
         43
        ],
        [
         null,
         null,
         "1959-10-20",
         42
        ],
        [
         null,
         null,
         "1959-10-21",
         38
        ],
        [
         null,
         null,
         "1959-10-22",
         47
        ],
        [
         null,
         null,
         "1959-10-23",
         38
        ],
        [
         null,
         null,
         "1959-10-24",
         36
        ],
        [
         null,
         null,
         "1959-10-25",
         42
        ],
        [
         null,
         null,
         "1959-10-26",
         35
        ],
        [
         null,
         null,
         "1959-10-27",
         28
        ],
        [
         null,
         null,
         "1959-10-28",
         44
        ],
        [
         null,
         null,
         "1959-10-29",
         36
        ],
        [
         null,
         null,
         "1959-10-30",
         45
        ],
        [
         null,
         null,
         "1959-10-31",
         46
        ],
        [
         "1959-11-01",
         124.0,
         "1959-11-01",
         48
        ],
        [
         null,
         null,
         "1959-11-02",
         49
        ],
        [
         null,
         null,
         "1959-11-03",
         43
        ],
        [
         null,
         null,
         "1959-11-04",
         42
        ],
        [
         null,
         null,
         "1959-11-05",
         59
        ],
        [
         null,
         null,
         "1959-11-06",
         45
        ],
        [
         null,
         null,
         "1959-11-07",
         52
        ],
        [
         null,
         null,
         "1959-11-08",
         46
        ],
        [
         null,
         null,
         "1959-11-09",
         42
        ],
        [
         null,
         null,
         "1959-11-10",
         40
        ],
        [
         null,
         null,
         "1959-11-11",
         40
        ],
        [
         null,
         null,
         "1959-11-12",
         45
        ],
        [
         null,
         null,
         "1959-11-13",
         35
        ],
        [
         null,
         null,
         "1959-11-14",
         35
        ],
        [
         null,
         null,
         "1959-11-15",
         40
        ],
        [
         null,
         null,
         "1959-11-16",
         39
        ],
        [
         null,
         null,
         "1959-11-17",
         33
        ],
        [
         null,
         null,
         "1959-11-18",
         42
        ],
        [
         null,
         null,
         "1959-11-19",
         47
        ],
        [
         null,
         null,
         "1959-11-20",
         51
        ],
        [
         null,
         null,
         "1959-11-21",
         44
        ],
        [
         null,
         null,
         "1959-11-22",
         40
        ],
        [
         null,
         null,
         "1959-11-23",
         57
        ],
        [
         null,
         null,
         "1959-11-24",
         49
        ],
        [
         null,
         null,
         "1959-11-25",
         45
        ],
        [
         null,
         null,
         "1959-11-26",
         49
        ],
        [
         null,
         null,
         "1959-11-27",
         51
        ],
        [
         null,
         null,
         "1959-11-28",
         46
        ],
        [
         null,
         null,
         "1959-11-29",
         44
        ],
        [
         null,
         null,
         "1959-11-30",
         52
        ],
        [
         "1959-12-01",
         125.0,
         "1959-12-01",
         45
        ],
        [
         null,
         null,
         "1959-12-02",
         32
        ],
        [
         null,
         null,
         "1959-12-03",
         46
        ],
        [
         null,
         null,
         "1959-12-04",
         41
        ],
        [
         null,
         null,
         "1959-12-05",
         34
        ],
        [
         null,
         null,
         "1959-12-06",
         33
        ],
        [
         null,
         null,
         "1959-12-07",
         36
        ],
        [
         null,
         null,
         "1959-12-08",
         49
        ],
        [
         null,
         null,
         "1959-12-09",
         43
        ],
        [
         null,
         null,
         "1959-12-10",
         43
        ],
        [
         null,
         null,
         "1959-12-11",
         34
        ],
        [
         null,
         null,
         "1959-12-12",
         39
        ],
        [
         null,
         null,
         "1959-12-13",
         35
        ],
        [
         null,
         null,
         "1959-12-14",
         52
        ],
        [
         null,
         null,
         "1959-12-15",
         47
        ],
        [
         null,
         null,
         "1959-12-16",
         52
        ],
        [
         null,
         null,
         "1959-12-17",
         39
        ],
        [
         null,
         null,
         "1959-12-18",
         40
        ],
        [
         null,
         null,
         "1959-12-19",
         42
        ],
        [
         null,
         null,
         "1959-12-20",
         42
        ],
        [
         null,
         null,
         "1959-12-21",
         53
        ],
        [
         null,
         null,
         "1959-12-22",
         39
        ],
        [
         null,
         null,
         "1959-12-23",
         40
        ],
        [
         null,
         null,
         "1959-12-24",
         38
        ],
        [
         null,
         null,
         "1959-12-25",
         44
        ],
        [
         null,
         null,
         "1959-12-26",
         34
        ],
        [
         null,
         null,
         "1959-12-27",
         37
        ],
        [
         null,
         null,
         "1959-12-28",
         52
        ],
        [
         null,
         null,
         "1959-12-29",
         48
        ],
        [
         null,
         null,
         "1959-12-30",
         55
        ],
        [
         null,
         null,
         "1959-12-31",
         50
        ]
       ],
       "datasetInfos": [],
       "dbfsResultPath": null,
       "isJsonSchema": true,
       "metadata": {},
       "overflow": false,
       "plotOptions": {
        "customPlotOptions": {},
        "displayType": "table",
        "pivotAggregation": null,
        "pivotColumns": null,
        "xColumns": null,
        "yColumns": null
       },
       "removedWidgets": [],
       "schema": [
        {
         "metadata": "{}",
         "name": "Date",
         "type": "\"date\""
        },
        {
         "metadata": "{}",
         "name": "Sunspots",
         "type": "\"double\""
        },
        {
         "metadata": "{}",
         "name": "Date",
         "type": "\"date\""
        },
        {
         "metadata": "{}",
         "name": "Births",
         "type": "\"long\""
        }
       ],
       "type": "table"
      }
     },
     "output_type": "display_data"
    },
    {
     "output_type": "display_data",
     "data": {
      "text/plain": [
       "Databricks visualization. Run in Databricks to view."
      ]
     },
     "metadata": {
      "application/vnd.databricks.v1.subcommand+json": {
       "bindings": {},
       "collapsed": false,
       "command": "%python\n__backend_agg_display_orig = display\n__backend_agg_dfs = []\ndef __backend_agg_display_new(df):\n    __backend_agg_df_modules = [\"pandas.core.frame\", \"databricks.koalas.frame\", \"pyspark.sql.dataframe\", \"pyspark.pandas.frame\", \"pyspark.sql.connect.dataframe\"]\n    if (type(df).__module__ in __backend_agg_df_modules and type(df).__name__ == 'DataFrame') or isinstance(df, list):\n        __backend_agg_dfs.append(df)\n\ndisplay = __backend_agg_display_new\n\ndef __backend_agg_user_code_fn():\n    import base64\n    exec(base64.standard_b64decode(\"dW5pb25lZF9kZiA9IHN1bnNwb3RzX2RmX2NvbXBhdGlibGUuam9pbigKICBiaXJ0aHNfZGZfY29tcGF0aWJsZSwKICBvbiA9IHN1bnNwb3RzX2RmX2NvbXBhdGlibGUuRGF0ZSA9PSBiaXJ0aHNfZGZfY29tcGF0aWJsZS5EYXRlLAogIGhvdyA9ICdvdXRlcicKKQoKZGlzcGxheSh1bmlvbmVkX2RmKQ==\").decode())\n\ntry:\n    # run user code\n    __backend_agg_user_code_fn()\n\n    #reset display function\n    display = __backend_agg_display_orig\n\n    if len(__backend_agg_dfs) > 0:\n        # create a temp view\n        if type(__backend_agg_dfs[0]).__module__ == \"databricks.koalas.frame\":\n            # koalas dataframe\n            __backend_agg_dfs[0].to_spark().createOrReplaceTempView(\"DatabricksViewad2cb06\")\n        elif type(__backend_agg_dfs[0]).__module__ == \"pandas.core.frame\" or isinstance(__backend_agg_dfs[0], list):\n            # pandas dataframe\n            spark.createDataFrame(__backend_agg_dfs[0]).createOrReplaceTempView(\"DatabricksViewad2cb06\")\n        else:\n            __backend_agg_dfs[0].createOrReplaceTempView(\"DatabricksViewad2cb06\")\n        #run backend agg\n        display(spark.sql(\"\"\"WITH q AS (select * from DatabricksViewad2cb06) SELECT `Date`,SUM(`Births`) `column_7d4ac02f248`,SUM(`Sunspots`) `column_7d4ac02f250` FROM q GROUP BY `Date`\"\"\"))\n    else:\n        displayHTML(\"dataframe no longer exists. If you're using dataframe.display(), use display(dataframe) instead.\")\n\n\nfinally:\n    spark.sql(\"drop view if exists DatabricksViewad2cb06\")\n    display = __backend_agg_display_orig\n    del __backend_agg_display_new\n    del __backend_agg_display_orig\n    del __backend_agg_dfs\n    del __backend_agg_user_code_fn\n\n",
       "commandTitle": "Visualization 1",
       "commandType": "auto",
       "commandVersion": 0,
       "commentThread": [],
       "commentsVisible": false,
       "contentSha256Hex": null,
       "customPlotOptions": {
        "redashChart": [
         {
          "key": "type",
          "value": "CHART"
         },
         {
          "key": "options",
          "value": {
           "alignYAxesAtZero": true,
           "coefficient": 1,
           "columnConfigurationMap": {
            "x": {
             "column": "Date",
             "id": "column_7d4ac02f246"
            },
            "y": [
             {
              "column": "Births",
              "id": "column_7d4ac02f248",
              "transform": "SUM"
             },
             {
              "column": "Sunspots",
              "id": "column_7d4ac02f250",
              "transform": "SUM"
             }
            ]
           },
           "dateTimeFormat": "DD/MM/YYYY HH:mm",
           "direction": {
            "type": "counterclockwise"
           },
           "error_y": {
            "type": "data",
            "visible": true
           },
           "globalSeriesType": "column",
           "isAggregationOn": true,
           "legend": {
            "traceorder": "normal"
           },
           "missingValuesAsZero": true,
           "numberFormat": "0,0[.]00000",
           "percentFormat": "0[.]00%",
           "series": {
            "error_y": {
             "type": "data",
             "visible": true
            },
            "stacking": null
           },
           "seriesOptions": {
            "column_7d4ac02f248": {
             "type": "column",
             "yAxis": 0
            },
            "column_7d4ac02f250": {
             "type": "column",
             "yAxis": 0
            }
           },
           "showDataLabels": false,
           "sizemode": "diameter",
           "sortX": true,
           "sortY": true,
           "swappedAxes": false,
           "textFormat": "",
           "useAggregationsUi": true,
           "valuesOptions": {},
           "version": 2,
           "xAxis": {
            "labels": {
             "enabled": true
            },
            "type": "-"
           },
           "yAxis": [
            {
             "type": "-"
            },
            {
             "opposite": true,
             "type": "-"
            }
           ]
          }
         }
        ]
       },
       "datasetPreviewNameToCmdIdMap": {},
       "diffDeletes": [],
       "diffInserts": [],
       "displayType": "redashChart",
       "error": null,
       "errorSummary": null,
       "errorTraceType": null,
       "finishTime": 0,
       "globalVars": {},
       "guid": "",
       "height": "auto",
       "hideCommandCode": false,
       "hideCommandResult": false,
       "iPythonMetadata": null,
       "inputWidgets": {},
       "isLockedInExamMode": false,
       "latestUser": "a user",
       "latestUserId": null,
       "listResultMetadata": null,
       "metadata": {},
       "nuid": "4c2788e9-9d7e-409e-8e45-9b336caf1b7a",
       "origId": 0,
       "parentHierarchy": [],
       "pivotAggregation": null,
       "pivotColumns": null,
       "position": 8.5,
       "resultDbfsErrorMessage": null,
       "resultDbfsStatus": "INLINED_IN_TREE",
       "results": null,
       "showCommandTitle": false,
       "startTime": 0,
       "state": "input",
       "streamStates": {},
       "subcommandOptions": {
        "queryPlan": {
         "groups": [
          {
           "column": "Date",
           "type": "column"
          }
         ],
         "selects": [
          {
           "column": "Date",
           "type": "column"
          },
          {
           "alias": "column_7d4ac02f248",
           "args": [
            {
             "column": "Births",
             "type": "column"
            }
           ],
           "function": "SUM",
           "type": "function"
          },
          {
           "alias": "column_7d4ac02f250",
           "args": [
            {
             "column": "Sunspots",
             "type": "column"
            }
           ],
           "function": "SUM",
           "type": "function"
          }
         ]
        }
       },
       "submitTime": 0,
       "subtype": "tableResultSubCmd.visualization",
       "tableResultIndex": 0,
       "useConsistentColors": false,
       "version": "CommandV1",
       "width": "auto",
       "workflows": [],
       "xColumns": null,
       "yColumns": null
      }
     },
     "output_type": "display_data"
    }
   ],
   "source": [
    "joined_df = sunspots_df_compatible.select('Date', 'Sunspots').join(\n",
    "  births_df_compatible.select('Date', 'Births'),\n",
    "  on = sunspots_df_compatible.Date == births_df_compatible.Date,\n",
    "  how = 'outer'\n",
    ")\n",
    "\n",
    "display(joined_df)"
   ]
  },
  {
   "cell_type": "code",
   "execution_count": 0,
   "metadata": {
    "application/vnd.databricks.v1+cell": {
     "cellMetadata": {
      "byteLimit": 2048000,
      "rowLimit": 10000
     },
     "inputWidgets": {},
     "nuid": "3a5428ca-3801-4493-bf55-16dcf35ce4d6",
     "showTitle": false,
     "title": ""
    }
   },
   "outputs": [],
   "source": []
  }
 ],
 "metadata": {
  "application/vnd.databricks.v1+notebook": {
   "dashboards": [],
   "language": "python",
   "notebookMetadata": {
    "pythonIndentUnit": 2
   },
   "notebookName": "Databricks graphing",
   "widgets": {}
  }
 },
 "nbformat": 4,
 "nbformat_minor": 0
}
