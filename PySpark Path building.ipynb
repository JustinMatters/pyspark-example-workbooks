{
 "cells": [
  {
   "cell_type": "code",
   "execution_count": 0,
   "metadata": {
    "application/vnd.databricks.v1+cell": {
     "cellMetadata": {
      "byteLimit": 2048000,
      "rowLimit": 10000
     },
     "inputWidgets": {},
     "nuid": "fd1b4c85-2fd5-46e7-b96d-d99f4fc4eb66",
     "showTitle": false,
     "title": ""
    }
   },
   "outputs": [],
   "source": [
    "from pyspark.sql import functions as fn, types as T\n",
    "from pyspark.sql import Window"
   ]
  },
  {
   "cell_type": "code",
   "execution_count": 0,
   "metadata": {
    "application/vnd.databricks.v1+cell": {
     "cellMetadata": {
      "byteLimit": 2048000,
      "rowLimit": 10000
     },
     "inputWidgets": {},
     "nuid": "7414ddfe-9b02-4031-a61a-9b3bc71712d0",
     "showTitle": false,
     "title": ""
    }
   },
   "outputs": [
    {
     "output_type": "display_data",
     "data": {
      "text/html": [
       "<style scoped>\n",
       "  .table-result-container {\n",
       "    max-height: 300px;\n",
       "    overflow: auto;\n",
       "  }\n",
       "  table, th, td {\n",
       "    border: 1px solid black;\n",
       "    border-collapse: collapse;\n",
       "  }\n",
       "  th, td {\n",
       "    padding: 5px;\n",
       "  }\n",
       "  th {\n",
       "    text-align: left;\n",
       "  }\n",
       "</style><div class='table-result-container'><table class='table-result'><thead style='background-color: white'><tr><th>person</th><th>previous_reference</th><th>reference</th><th>time_step</th><th>true_path_id</th></tr></thead><tbody><tr><td>jack</td><td>null</td><td>a</td><td>1</td><td>abc</td></tr><tr><td>jack</td><td>a</td><td>b</td><td>2</td><td>abc</td></tr><tr><td>jack</td><td>b</td><td>c</td><td>3</td><td>abc</td></tr><tr><td>jack</td><td>null</td><td>j</td><td>14</td><td>jkl</td></tr><tr><td>jack</td><td>j</td><td>k</td><td>15</td><td>jkl</td></tr><tr><td>jack</td><td>k</td><td>l</td><td>16</td><td>jkl</td></tr><tr><td>jill</td><td>null</td><td>p</td><td>1</td><td>pqr</td></tr><tr><td>jill</td><td>p</td><td>q</td><td>2</td><td>pqr</td></tr><tr><td>jill</td><td>q</td><td>r</td><td>3</td><td>pqr</td></tr><tr><td>jill</td><td>null</td><td>x</td><td>24</td><td>xyz</td></tr><tr><td>jill</td><td>x</td><td>y</td><td>25</td><td>xyz</td></tr><tr><td>jill</td><td>y</td><td>z</td><td>26</td><td>xyz</td></tr></tbody></table></div>"
      ]
     },
     "metadata": {
      "application/vnd.databricks.v1+output": {
       "addedWidgets": {},
       "aggData": [],
       "aggError": "",
       "aggOverflow": false,
       "aggSchema": [],
       "aggSeriesLimitReached": false,
       "aggType": "",
       "arguments": {},
       "columnCustomDisplayInfos": {},
       "data": [
        [
         "jack",
         null,
         "a",
         1,
         "abc"
        ],
        [
         "jack",
         "a",
         "b",
         2,
         "abc"
        ],
        [
         "jack",
         "b",
         "c",
         3,
         "abc"
        ],
        [
         "jack",
         null,
         "j",
         14,
         "jkl"
        ],
        [
         "jack",
         "j",
         "k",
         15,
         "jkl"
        ],
        [
         "jack",
         "k",
         "l",
         16,
         "jkl"
        ],
        [
         "jill",
         null,
         "p",
         1,
         "pqr"
        ],
        [
         "jill",
         "p",
         "q",
         2,
         "pqr"
        ],
        [
         "jill",
         "q",
         "r",
         3,
         "pqr"
        ],
        [
         "jill",
         null,
         "x",
         24,
         "xyz"
        ],
        [
         "jill",
         "x",
         "y",
         25,
         "xyz"
        ],
        [
         "jill",
         "y",
         "z",
         26,
         "xyz"
        ]
       ],
       "datasetInfos": [],
       "dbfsResultPath": null,
       "isJsonSchema": true,
       "metadata": {},
       "overflow": false,
       "plotOptions": {
        "customPlotOptions": {},
        "displayType": "table",
        "pivotAggregation": null,
        "pivotColumns": null,
        "xColumns": null,
        "yColumns": null
       },
       "removedWidgets": [],
       "schema": [
        {
         "metadata": "{}",
         "name": "person",
         "type": "\"string\""
        },
        {
         "metadata": "{}",
         "name": "previous_reference",
         "type": "\"string\""
        },
        {
         "metadata": "{}",
         "name": "reference",
         "type": "\"string\""
        },
        {
         "metadata": "{}",
         "name": "time_step",
         "type": "\"long\""
        },
        {
         "metadata": "{}",
         "name": "true_path_id",
         "type": "\"string\""
        }
       ],
       "type": "table"
      }
     },
     "output_type": "display_data"
    }
   ],
   "source": [
    "data_1 = [\n",
    "  {\n",
    "    'person': 'jack',\n",
    "    'true_path_id': 'abc',\n",
    "    'previous_reference': None,\n",
    "    'reference': 'a',\n",
    "    'time_step': 1,\n",
    "  },\n",
    "  {\n",
    "    'person': 'jack',\n",
    "    'true_path_id': 'abc',\n",
    "    'previous_reference': 'a',\n",
    "    'reference': 'b',\n",
    "    'time_step': 2,\n",
    "  },\n",
    "  {\n",
    "    'person': 'jack',\n",
    "    'true_path_id': 'abc',\n",
    "    'previous_reference': 'b',\n",
    "    'reference': 'c',\n",
    "    'time_step': 3,\n",
    "  },\n",
    "  {\n",
    "    'person': 'jack',\n",
    "    'true_path_id': 'jkl',\n",
    "    'previous_reference': None,\n",
    "    'reference': 'j',\n",
    "    'time_step': 14,\n",
    "  },\n",
    "  {\n",
    "    'person': 'jack',\n",
    "    'true_path_id': 'jkl',\n",
    "    'previous_reference':'j',\n",
    "    'reference': 'k',\n",
    "    'time_step': 15,\n",
    "  },\n",
    "  {\n",
    "    'person': 'jack',\n",
    "    'true_path_id': 'jkl',\n",
    "    'previous_reference':'k',\n",
    "    'reference': 'l',\n",
    "    'time_step': 16,\n",
    "  },\n",
    "  {\n",
    "    'person': 'jill',\n",
    "    'true_path_id': 'pqr',\n",
    "    'previous_reference': None,\n",
    "    'reference': 'p',\n",
    "    'time_step': 1,\n",
    "  },\n",
    "  {\n",
    "    'person': 'jill',\n",
    "    'true_path_id': 'pqr',\n",
    "    'previous_reference': 'p',\n",
    "    'reference': 'q',\n",
    "    'time_step': 2,\n",
    "  },\n",
    "  {\n",
    "    'person': 'jill',\n",
    "    'true_path_id': 'pqr',\n",
    "    'previous_reference': 'q',\n",
    "    'reference': 'r',\n",
    "    'time_step': 3,\n",
    "  },\n",
    "  {\n",
    "    'person': 'jill',\n",
    "    'true_path_id': 'xyz',\n",
    "    'previous_reference': None,\n",
    "    'reference': 'x',\n",
    "    'time_step': 24,\n",
    "  },\n",
    "  {\n",
    "    'person': 'jill',\n",
    "    'true_path_id': 'xyz',\n",
    "    'previous_reference':'x',\n",
    "    'reference': 'y',\n",
    "    'time_step': 25,\n",
    "  },\n",
    "  {\n",
    "    'person': 'jill',\n",
    "    'true_path_id': 'xyz',\n",
    "    'previous_reference':'y',\n",
    "    'reference': 'z',\n",
    "    'time_step': 26,\n",
    "  },\n",
    "]\n",
    "\n",
    "# assemble sample data into dataframe\n",
    "df_1 = spark.createDataFrame(data_1)\n",
    "display(df_1)"
   ]
  },
  {
   "cell_type": "markdown",
   "metadata": {
    "application/vnd.databricks.v1+cell": {
     "cellMetadata": {
      "byteLimit": 2048000,
      "rowLimit": 10000
     },
     "inputWidgets": {},
     "nuid": "4bf33950-b126-40d6-b30d-205d9577a606",
     "showTitle": false,
     "title": ""
    }
   },
   "source": [
    "# If each person had a single path this would be simple\n",
    "We could simply add a path UUID as below or even just use the person colum as the ID\n",
    "However as we can see in this case the assigned values do not match the pattern of the true_path_id column"
   ]
  },
  {
   "cell_type": "code",
   "execution_count": 0,
   "metadata": {
    "application/vnd.databricks.v1+cell": {
     "cellMetadata": {
      "byteLimit": 2048000,
      "rowLimit": 10000
     },
     "inputWidgets": {},
     "nuid": "a7daca36-4978-4d6d-b4fa-ed4c622532cf",
     "showTitle": false,
     "title": ""
    }
   },
   "outputs": [
    {
     "output_type": "display_data",
     "data": {
      "text/html": [
       "<style scoped>\n",
       "  .table-result-container {\n",
       "    max-height: 300px;\n",
       "    overflow: auto;\n",
       "  }\n",
       "  table, th, td {\n",
       "    border: 1px solid black;\n",
       "    border-collapse: collapse;\n",
       "  }\n",
       "  th, td {\n",
       "    padding: 5px;\n",
       "  }\n",
       "  th {\n",
       "    text-align: left;\n",
       "  }\n",
       "</style><div class='table-result-container'><table class='table-result'><thead style='background-color: white'><tr><th>person</th><th>previous_reference</th><th>reference</th><th>time_step</th><th>true_path_id</th><th>uuid</th><th>path_id</th></tr></thead><tbody><tr><td>jack</td><td>null</td><td>a</td><td>1</td><td>abc</td><td>875cd687-8eff-465c-ac86-f45b9876143f</td><td>875cd687-8eff-465c-ac86-f45b9876143f</td></tr><tr><td>jack</td><td>a</td><td>b</td><td>2</td><td>abc</td><td>bca493d9-f7f2-41c2-a8d0-e3ae4757a576</td><td>875cd687-8eff-465c-ac86-f45b9876143f</td></tr><tr><td>jack</td><td>b</td><td>c</td><td>3</td><td>abc</td><td>79aeb33b-7d92-4628-a010-22caf19cf098</td><td>875cd687-8eff-465c-ac86-f45b9876143f</td></tr><tr><td>jack</td><td>null</td><td>j</td><td>14</td><td>jkl</td><td>f7812ff1-d4fd-477a-aadb-79f2dcc94eeb</td><td>875cd687-8eff-465c-ac86-f45b9876143f</td></tr><tr><td>jack</td><td>j</td><td>k</td><td>15</td><td>jkl</td><td>8a23ce0d-e90c-480b-a165-f0921aa07170</td><td>875cd687-8eff-465c-ac86-f45b9876143f</td></tr><tr><td>jack</td><td>k</td><td>l</td><td>16</td><td>jkl</td><td>742187f1-8bc2-4f7e-845f-972a327a3406</td><td>875cd687-8eff-465c-ac86-f45b9876143f</td></tr><tr><td>jill</td><td>null</td><td>p</td><td>1</td><td>pqr</td><td>9ea851cf-0859-4055-9ac4-0cb9fd11b6c9</td><td>9ea851cf-0859-4055-9ac4-0cb9fd11b6c9</td></tr><tr><td>jill</td><td>p</td><td>q</td><td>2</td><td>pqr</td><td>ad424d64-1a63-4211-bae9-903b8e41144d</td><td>9ea851cf-0859-4055-9ac4-0cb9fd11b6c9</td></tr><tr><td>jill</td><td>q</td><td>r</td><td>3</td><td>pqr</td><td>a06d53ed-4f87-4377-8b07-0e2234b8f5ac</td><td>9ea851cf-0859-4055-9ac4-0cb9fd11b6c9</td></tr><tr><td>jill</td><td>null</td><td>x</td><td>24</td><td>xyz</td><td>bfd5c113-c6a1-48e6-b129-9eb52ebb306f</td><td>9ea851cf-0859-4055-9ac4-0cb9fd11b6c9</td></tr><tr><td>jill</td><td>x</td><td>y</td><td>25</td><td>xyz</td><td>f66f2d48-725f-4b77-843d-8c7c0355fb13</td><td>9ea851cf-0859-4055-9ac4-0cb9fd11b6c9</td></tr><tr><td>jill</td><td>y</td><td>z</td><td>26</td><td>xyz</td><td>22199272-551b-42e6-8f23-c4880f42f391</td><td>9ea851cf-0859-4055-9ac4-0cb9fd11b6c9</td></tr></tbody></table></div>"
      ]
     },
     "metadata": {
      "application/vnd.databricks.v1+output": {
       "addedWidgets": {},
       "aggData": [],
       "aggError": "",
       "aggOverflow": false,
       "aggSchema": [],
       "aggSeriesLimitReached": false,
       "aggType": "",
       "arguments": {},
       "columnCustomDisplayInfos": {},
       "data": [
        [
         "jack",
         null,
         "a",
         1,
         "abc",
         "875cd687-8eff-465c-ac86-f45b9876143f",
         "875cd687-8eff-465c-ac86-f45b9876143f"
        ],
        [
         "jack",
         "a",
         "b",
         2,
         "abc",
         "bca493d9-f7f2-41c2-a8d0-e3ae4757a576",
         "875cd687-8eff-465c-ac86-f45b9876143f"
        ],
        [
         "jack",
         "b",
         "c",
         3,
         "abc",
         "79aeb33b-7d92-4628-a010-22caf19cf098",
         "875cd687-8eff-465c-ac86-f45b9876143f"
        ],
        [
         "jack",
         null,
         "j",
         14,
         "jkl",
         "f7812ff1-d4fd-477a-aadb-79f2dcc94eeb",
         "875cd687-8eff-465c-ac86-f45b9876143f"
        ],
        [
         "jack",
         "j",
         "k",
         15,
         "jkl",
         "8a23ce0d-e90c-480b-a165-f0921aa07170",
         "875cd687-8eff-465c-ac86-f45b9876143f"
        ],
        [
         "jack",
         "k",
         "l",
         16,
         "jkl",
         "742187f1-8bc2-4f7e-845f-972a327a3406",
         "875cd687-8eff-465c-ac86-f45b9876143f"
        ],
        [
         "jill",
         null,
         "p",
         1,
         "pqr",
         "9ea851cf-0859-4055-9ac4-0cb9fd11b6c9",
         "9ea851cf-0859-4055-9ac4-0cb9fd11b6c9"
        ],
        [
         "jill",
         "p",
         "q",
         2,
         "pqr",
         "ad424d64-1a63-4211-bae9-903b8e41144d",
         "9ea851cf-0859-4055-9ac4-0cb9fd11b6c9"
        ],
        [
         "jill",
         "q",
         "r",
         3,
         "pqr",
         "a06d53ed-4f87-4377-8b07-0e2234b8f5ac",
         "9ea851cf-0859-4055-9ac4-0cb9fd11b6c9"
        ],
        [
         "jill",
         null,
         "x",
         24,
         "xyz",
         "bfd5c113-c6a1-48e6-b129-9eb52ebb306f",
         "9ea851cf-0859-4055-9ac4-0cb9fd11b6c9"
        ],
        [
         "jill",
         "x",
         "y",
         25,
         "xyz",
         "f66f2d48-725f-4b77-843d-8c7c0355fb13",
         "9ea851cf-0859-4055-9ac4-0cb9fd11b6c9"
        ],
        [
         "jill",
         "y",
         "z",
         26,
         "xyz",
         "22199272-551b-42e6-8f23-c4880f42f391",
         "9ea851cf-0859-4055-9ac4-0cb9fd11b6c9"
        ]
       ],
       "datasetInfos": [],
       "dbfsResultPath": null,
       "isJsonSchema": true,
       "metadata": {},
       "overflow": false,
       "plotOptions": {
        "customPlotOptions": {},
        "displayType": "table",
        "pivotAggregation": null,
        "pivotColumns": null,
        "xColumns": null,
        "yColumns": null
       },
       "removedWidgets": [],
       "schema": [
        {
         "metadata": "{}",
         "name": "person",
         "type": "\"string\""
        },
        {
         "metadata": "{}",
         "name": "previous_reference",
         "type": "\"string\""
        },
        {
         "metadata": "{}",
         "name": "reference",
         "type": "\"string\""
        },
        {
         "metadata": "{}",
         "name": "time_step",
         "type": "\"long\""
        },
        {
         "metadata": "{}",
         "name": "true_path_id",
         "type": "\"string\""
        },
        {
         "metadata": "{}",
         "name": "uuid",
         "type": "\"string\""
        },
        {
         "metadata": "{}",
         "name": "path_id",
         "type": "\"string\""
        }
       ],
       "type": "table"
      }
     },
     "output_type": "display_data"
    }
   ],
   "source": [
    "window = Window.partitionBy('person').orderBy('time_step')\n",
    "\n",
    "df_1_simple = df_1.withColumn(\n",
    "  # create uuids for all rows first since uuid cannot be used in window functions\n",
    "  'uuid', fn.expr('uuid()')\n",
    ").withColumn(\n",
    "  # then take the first from each path block\n",
    "  'path_id', fn.first('uuid').over(window)\n",
    ")\n",
    "\n",
    "display(df_1_simple)"
   ]
  },
  {
   "cell_type": "markdown",
   "metadata": {
    "application/vnd.databricks.v1+cell": {
     "cellMetadata": {
      "byteLimit": 2048000,
      "rowLimit": 10000
     },
     "inputWidgets": {},
     "nuid": "ec9fa8bb-4551-4943-932d-903e540194da",
     "showTitle": false,
     "title": ""
    }
   },
   "source": [
    "# Where people can have multiple paths things need a little more thought\n",
    "Let us suppose that paths do not overlap in time. In that case we can use knowledge of the preceding step in the path to correctly joing steps into paths. To do this we take 3 steps:\n",
    "- We use a lagged window to push information from the previous timestep for each person into the next timestep\n",
    "- we compare this preciding information with the current information to check for a match assigning1 for a NON-MATCH and 0 for a MATCH\n",
    "- we can then sum across all prior events for each person to give equally numbered groups that should be turned into paths\n",
    "\n",
    "In practice this looks like this. Notice that the newly assigned path_id values correspond in grouping to the true path_id values\n",
    "\n",
    "Note that there are a couple of assumptions here:\n",
    "- each person can only have one path at a time\n",
    "- each step is aware of some useful indicator about the previous step (here the previous_reference)"
   ]
  },
  {
   "cell_type": "code",
   "execution_count": 0,
   "metadata": {
    "application/vnd.databricks.v1+cell": {
     "cellMetadata": {
      "byteLimit": 2048000,
      "rowLimit": 10000
     },
     "inputWidgets": {},
     "nuid": "c0145487-99dd-41e3-b893-58e3c89b43be",
     "showTitle": false,
     "title": ""
    }
   },
   "outputs": [
    {
     "output_type": "display_data",
     "data": {
      "text/html": [
       "<style scoped>\n",
       "  .table-result-container {\n",
       "    max-height: 300px;\n",
       "    overflow: auto;\n",
       "  }\n",
       "  table, th, td {\n",
       "    border: 1px solid black;\n",
       "    border-collapse: collapse;\n",
       "  }\n",
       "  th, td {\n",
       "    padding: 5px;\n",
       "  }\n",
       "  th {\n",
       "    text-align: left;\n",
       "  }\n",
       "</style><div class='table-result-container'><table class='table-result'><thead style='background-color: white'><tr><th>person</th><th>previous_reference</th><th>reference</th><th>time_step</th><th>true_path_id</th><th>uuid</th><th>preceding_reference</th><th>not_same_as_preceding</th><th>path_group</th><th>path_id</th></tr></thead><tbody><tr><td>jack</td><td>null</td><td>a</td><td>1</td><td>abc</td><td>91b6fa90-d9f7-4db5-96f9-0c6f8e404ff0</td><td>null</td><td>1</td><td>1</td><td>91b6fa90-d9f7-4db5-96f9-0c6f8e404ff0</td></tr><tr><td>jack</td><td>a</td><td>b</td><td>2</td><td>abc</td><td>9c9b3acd-2ddf-4c5c-9091-e305a27e95cc</td><td>a</td><td>0</td><td>1</td><td>91b6fa90-d9f7-4db5-96f9-0c6f8e404ff0</td></tr><tr><td>jack</td><td>b</td><td>c</td><td>3</td><td>abc</td><td>801cb175-20b6-4d53-a4d9-7c8becef86a5</td><td>b</td><td>0</td><td>1</td><td>91b6fa90-d9f7-4db5-96f9-0c6f8e404ff0</td></tr><tr><td>jack</td><td>null</td><td>j</td><td>14</td><td>jkl</td><td>cf84937d-cc9c-4684-92a2-a6596b5b678c</td><td>c</td><td>1</td><td>2</td><td>cf84937d-cc9c-4684-92a2-a6596b5b678c</td></tr><tr><td>jack</td><td>j</td><td>k</td><td>15</td><td>jkl</td><td>e1a45f1f-a314-4d36-8f34-1489e20ff5de</td><td>j</td><td>0</td><td>2</td><td>cf84937d-cc9c-4684-92a2-a6596b5b678c</td></tr><tr><td>jack</td><td>k</td><td>l</td><td>16</td><td>jkl</td><td>977446e4-48e8-46c0-8d93-a37320afbca2</td><td>k</td><td>0</td><td>2</td><td>cf84937d-cc9c-4684-92a2-a6596b5b678c</td></tr><tr><td>jill</td><td>null</td><td>p</td><td>1</td><td>pqr</td><td>fd474918-f821-4c4f-afba-8249c03902f8</td><td>null</td><td>1</td><td>1</td><td>fd474918-f821-4c4f-afba-8249c03902f8</td></tr><tr><td>jill</td><td>p</td><td>q</td><td>2</td><td>pqr</td><td>d53f4833-7208-43da-b4e6-5829f0b08aab</td><td>p</td><td>0</td><td>1</td><td>fd474918-f821-4c4f-afba-8249c03902f8</td></tr><tr><td>jill</td><td>q</td><td>r</td><td>3</td><td>pqr</td><td>1c6808cf-7bc5-4cb2-b215-e178bdb3f7b5</td><td>q</td><td>0</td><td>1</td><td>fd474918-f821-4c4f-afba-8249c03902f8</td></tr><tr><td>jill</td><td>null</td><td>x</td><td>24</td><td>xyz</td><td>e6c34ff7-3ff8-43c1-a733-d804f80362ee</td><td>r</td><td>1</td><td>2</td><td>e6c34ff7-3ff8-43c1-a733-d804f80362ee</td></tr><tr><td>jill</td><td>x</td><td>y</td><td>25</td><td>xyz</td><td>dfb4f63e-9462-40b9-b287-132934e3544f</td><td>x</td><td>0</td><td>2</td><td>e6c34ff7-3ff8-43c1-a733-d804f80362ee</td></tr><tr><td>jill</td><td>y</td><td>z</td><td>26</td><td>xyz</td><td>b4b8be35-46f1-4d2b-8c4e-ef6f9d04f26d</td><td>y</td><td>0</td><td>2</td><td>e6c34ff7-3ff8-43c1-a733-d804f80362ee</td></tr></tbody></table></div>"
      ]
     },
     "metadata": {
      "application/vnd.databricks.v1+output": {
       "addedWidgets": {},
       "aggData": [],
       "aggError": "",
       "aggOverflow": false,
       "aggSchema": [],
       "aggSeriesLimitReached": false,
       "aggType": "",
       "arguments": {},
       "columnCustomDisplayInfos": {},
       "data": [
        [
         "jack",
         null,
         "a",
         1,
         "abc",
         "91b6fa90-d9f7-4db5-96f9-0c6f8e404ff0",
         null,
         1,
         1,
         "91b6fa90-d9f7-4db5-96f9-0c6f8e404ff0"
        ],
        [
         "jack",
         "a",
         "b",
         2,
         "abc",
         "9c9b3acd-2ddf-4c5c-9091-e305a27e95cc",
         "a",
         0,
         1,
         "91b6fa90-d9f7-4db5-96f9-0c6f8e404ff0"
        ],
        [
         "jack",
         "b",
         "c",
         3,
         "abc",
         "801cb175-20b6-4d53-a4d9-7c8becef86a5",
         "b",
         0,
         1,
         "91b6fa90-d9f7-4db5-96f9-0c6f8e404ff0"
        ],
        [
         "jack",
         null,
         "j",
         14,
         "jkl",
         "cf84937d-cc9c-4684-92a2-a6596b5b678c",
         "c",
         1,
         2,
         "cf84937d-cc9c-4684-92a2-a6596b5b678c"
        ],
        [
         "jack",
         "j",
         "k",
         15,
         "jkl",
         "e1a45f1f-a314-4d36-8f34-1489e20ff5de",
         "j",
         0,
         2,
         "cf84937d-cc9c-4684-92a2-a6596b5b678c"
        ],
        [
         "jack",
         "k",
         "l",
         16,
         "jkl",
         "977446e4-48e8-46c0-8d93-a37320afbca2",
         "k",
         0,
         2,
         "cf84937d-cc9c-4684-92a2-a6596b5b678c"
        ],
        [
         "jill",
         null,
         "p",
         1,
         "pqr",
         "fd474918-f821-4c4f-afba-8249c03902f8",
         null,
         1,
         1,
         "fd474918-f821-4c4f-afba-8249c03902f8"
        ],
        [
         "jill",
         "p",
         "q",
         2,
         "pqr",
         "d53f4833-7208-43da-b4e6-5829f0b08aab",
         "p",
         0,
         1,
         "fd474918-f821-4c4f-afba-8249c03902f8"
        ],
        [
         "jill",
         "q",
         "r",
         3,
         "pqr",
         "1c6808cf-7bc5-4cb2-b215-e178bdb3f7b5",
         "q",
         0,
         1,
         "fd474918-f821-4c4f-afba-8249c03902f8"
        ],
        [
         "jill",
         null,
         "x",
         24,
         "xyz",
         "e6c34ff7-3ff8-43c1-a733-d804f80362ee",
         "r",
         1,
         2,
         "e6c34ff7-3ff8-43c1-a733-d804f80362ee"
        ],
        [
         "jill",
         "x",
         "y",
         25,
         "xyz",
         "dfb4f63e-9462-40b9-b287-132934e3544f",
         "x",
         0,
         2,
         "e6c34ff7-3ff8-43c1-a733-d804f80362ee"
        ],
        [
         "jill",
         "y",
         "z",
         26,
         "xyz",
         "b4b8be35-46f1-4d2b-8c4e-ef6f9d04f26d",
         "y",
         0,
         2,
         "e6c34ff7-3ff8-43c1-a733-d804f80362ee"
        ]
       ],
       "datasetInfos": [],
       "dbfsResultPath": null,
       "isJsonSchema": true,
       "metadata": {},
       "overflow": false,
       "plotOptions": {
        "customPlotOptions": {},
        "displayType": "table",
        "pivotAggregation": null,
        "pivotColumns": null,
        "xColumns": null,
        "yColumns": null
       },
       "removedWidgets": [],
       "schema": [
        {
         "metadata": "{}",
         "name": "person",
         "type": "\"string\""
        },
        {
         "metadata": "{}",
         "name": "previous_reference",
         "type": "\"string\""
        },
        {
         "metadata": "{}",
         "name": "reference",
         "type": "\"string\""
        },
        {
         "metadata": "{}",
         "name": "time_step",
         "type": "\"long\""
        },
        {
         "metadata": "{}",
         "name": "true_path_id",
         "type": "\"string\""
        },
        {
         "metadata": "{}",
         "name": "uuid",
         "type": "\"string\""
        },
        {
         "metadata": "{}",
         "name": "preceding_reference",
         "type": "\"string\""
        },
        {
         "metadata": "{}",
         "name": "not_same_as_preceding",
         "type": "\"integer\""
        },
        {
         "metadata": "{}",
         "name": "path_group",
         "type": "\"long\""
        },
        {
         "metadata": "{}",
         "name": "path_id",
         "type": "\"string\""
        }
       ],
       "type": "table"
      }
     },
     "output_type": "display_data"
    }
   ],
   "source": [
    "person_window = Window.partitionBy(\n",
    "  'person',\n",
    ").orderBy(\n",
    "  'time_step',\n",
    ")\n",
    "\n",
    "cumulative_window = Window.partitionBy(\n",
    "  'person',\n",
    ").orderBy(\n",
    "  'time_step',\n",
    ").rowsBetween(\n",
    "  Window.unboundedPreceding, 0\n",
    ")\n",
    "\n",
    "preceding_window = Window.partitionBy(\n",
    "  'person', \n",
    "  'path_group',\n",
    ").orderBy(\n",
    "  'time_step',\n",
    ")\n",
    "\n",
    "df_1_separate_paths = df_1.withColumn(\n",
    "  # get information from the preceding step\n",
    "  'preceding_reference', fn.lag('reference').over(person_window)\n",
    ").withColumn(\n",
    "  # and compare to the current step\n",
    "  'not_same_as_preceding', fn.when(\n",
    "    fn.col('previous_reference') == fn.col('preceding_reference'),\n",
    "    # be careful to use 0 for matches\n",
    "    0\n",
    "  ).otherwise(\n",
    "    # and 1 for non-matches\n",
    "    1\n",
    "  )\n",
    ").withColumn(\n",
    "  # we can then separate into paths correctly\n",
    "  'path_group', fn.sum('not_same_as_preceding').over(cumulative_window)\n",
    ").withColumn(\n",
    "  # assign uuids if we want to have unique rather than numbered path groups\n",
    "  'uuid', fn.expr('uuid()')\n",
    ").withColumn(\n",
    "  # by taking the first uuid from each path group\n",
    "  'path_id', fn.first('uuid').over(preceding_window)\n",
    ")\n",
    "\n",
    "display(df_1_lagged)"
   ]
  },
  {
   "cell_type": "markdown",
   "metadata": {
    "application/vnd.databricks.v1+cell": {
     "cellMetadata": {},
     "inputWidgets": {},
     "nuid": "e2017469-8f38-4e0d-8c90-b0b5982f6201",
     "showTitle": false,
     "title": ""
    }
   },
   "source": [
    "comparing the true_path_id (which would be missing from the data ans is what we are trying to proxy for) with the path_isd, we can see this method has correctly assigned path identities"
   ]
  }
 ],
 "metadata": {
  "application/vnd.databricks.v1+notebook": {
   "dashboards": [],
   "language": "python",
   "notebookMetadata": {
    "pythonIndentUnit": 2
   },
   "notebookName": "PySpark Path building",
   "widgets": {}
  }
 },
 "nbformat": 4,
 "nbformat_minor": 0
}
